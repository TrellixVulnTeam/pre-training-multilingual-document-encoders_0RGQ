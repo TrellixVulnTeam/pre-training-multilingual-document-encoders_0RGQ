{
 "cells": [
  {
   "cell_type": "code",
   "execution_count": 2,
   "metadata": {},
   "outputs": [],
   "source": [
    "import os\n",
    "import json\n",
    "import logging\n",
    "from json import JSONDecodeError\n",
    "\n",
    "import wikipedia\n",
    "from datasets import load_from_disk"
   ]
  },
  {
   "cell_type": "code",
   "execution_count": 4,
   "metadata": {},
   "outputs": [],
   "source": [
    "logging.basicConfig(filename='wiki.log', encoding='utf-8', level=logging.ERROR)"
   ]
  },
  {
   "cell_type": "code",
   "execution_count": 5,
   "metadata": {},
   "outputs": [],
   "source": [
    "root_dir = r\"C:\\Users\\onurg\\.cache\\huggingface\\datasets\"\n",
    "data_dir = \"updated_wiki40b\"\n",
    "#language = \"filtered_small\"\n",
    "language = \"long_small_en\"\n",
    "\n",
    "path = os.path.join(root_dir, data_dir, language)\n",
    "dataset = load_from_disk(path)"
   ]
  },
  {
   "cell_type": "code",
   "execution_count": 6,
   "metadata": {},
   "outputs": [],
   "source": [
    "col_names = set(dataset.column_names)\n",
    "cols_to_remove = col_names - set((\"title\", \"wikidata_id\"))\n",
    "\n",
    "dataset = dataset.remove_columns(cols_to_remove)"
   ]
  },
  {
   "cell_type": "code",
   "execution_count": 7,
   "metadata": {},
   "outputs": [
    {
     "name": "stderr",
     "output_type": "stream",
     "text": [
      "100%|██████████| 639046/639046 [01:02<00:00, 10246.08ex/s]\n"
     ]
    },
    {
     "data": {
      "text/plain": [
       "Dataset({\n",
       "    features: ['title', 'wikidata_id'],\n",
       "    num_rows: 639046\n",
       "})"
      ]
     },
     "execution_count": 7,
     "metadata": {},
     "output_type": "execute_result"
    }
   ],
   "source": [
    "title_dict = {}\n",
    "\n",
    "def title_id_matcher(example):\n",
    "    title_dict[example[\"wikidata_id\"]] = example[\"title\"]\n",
    "\n",
    "dataset.map(title_id_matcher)"
   ]
  },
  {
   "cell_type": "markdown",
   "metadata": {},
   "source": [
    "## Continue"
   ]
  },
  {
   "cell_type": "code",
   "execution_count": 28,
   "metadata": {},
   "outputs": [],
   "source": [
    "stopped_file = \"titles.json\"\n",
    "logfile_name = \"wiki.log\"\n",
    "\n",
    "# Set of IDs that are already stored in json file\n",
    "data = []\n",
    "with open(stopped_file, encoding='utf-8') as f:\n",
    "    for line in f:\n",
    "        data.append(json.loads(line)[\"id\"])\n",
    "seen_ids = set(data)\n",
    "\n",
    "# Set of IDs that are already logged to cause error\n",
    "with open(logfile_name) as f:\n",
    "    lines = f.readlines()\n",
    "logged_ids = {line.split(\",\")[1].strip() for line in lines}\n",
    "\n",
    "# Union of the respective sets\n",
    "seen_ids = seen_ids.union(logged_ids)\n",
    "\n",
    "title_dict = {k: v for k, v in title_dict.items() if k not in seen_ids}"
   ]
  },
  {
   "cell_type": "code",
   "execution_count": null,
   "metadata": {},
   "outputs": [],
   "source": [
    "json_name = \"titles.json\"\n",
    "\n",
    "with open(json_name, 'a') as f:\n",
    "    for wiki_id, title in title_dict.items():\n",
    "        dict = {}\n",
    "        dict[\"id\"] = wiki_id\n",
    "        dict[\"title\"] = title\n",
    "\n",
    "        try:\n",
    "            p = wikipedia.page(title, auto_suggest=False)\n",
    "            categories = \"#\".join(p.categories)\n",
    "\n",
    "        except wikipedia.DisambiguationError:\n",
    "            logging.error('DisambiguationError, %s, %s', wiki_id, title)\n",
    "            continue\n",
    "\n",
    "        except wikipedia.PageError:\n",
    "            logging.error('PageError, %s, %s', wiki_id, title)\n",
    "            continue\n",
    "\n",
    "        except KeyError:\n",
    "            logging.error('KeyError, %s, %s', wiki_id, title)\n",
    "            continue\n",
    "        \n",
    "        except JSONDecodeError:\n",
    "            logging.error('JSONDecodeError, %s, %s', wiki_id, title)\n",
    "            continue\n",
    "\n",
    "        \n",
    "        dict[\"categories\"] = categories\n",
    "        f.write(json.dumps(dict) + \"\\n\")"
   ]
  }
 ],
 "metadata": {
  "interpreter": {
   "hash": "33ab4daa0c7d977fc22aa25c36b9c12b9e43d0049f266348c79f509c14309a26"
  },
  "kernelspec": {
   "display_name": "Python 3.7.3 64-bit",
   "language": "python",
   "name": "python3"
  },
  "language_info": {
   "codemirror_mode": {
    "name": "ipython",
    "version": 3
   },
   "file_extension": ".py",
   "mimetype": "text/x-python",
   "name": "python",
   "nbconvert_exporter": "python",
   "pygments_lexer": "ipython3",
   "version": "3.7.3"
  },
  "orig_nbformat": 4
 },
 "nbformat": 4,
 "nbformat_minor": 2
}
