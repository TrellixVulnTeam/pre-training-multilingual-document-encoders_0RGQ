{
 "cells": [
  {
   "cell_type": "code",
   "execution_count": 2,
   "id": "1647393c",
   "metadata": {},
   "outputs": [],
   "source": [
    "import sys\n",
    "import os\n",
    "from dataclasses import dataclass\n",
    "\n",
    "sys.path.insert(0, '/home/ogalolu/thesis/pre-training-multilingual-document-encoders')\n",
    "from model_utils import create_long_model\n",
    "from utils import MODEL_MAPPING"
   ]
  },
  {
   "cell_type": "markdown",
   "id": "50a0a927",
   "metadata": {},
   "source": [
    "# Arguments"
   ]
  },
  {
   "cell_type": "code",
   "execution_count": 3,
   "id": "025c5509",
   "metadata": {},
   "outputs": [],
   "source": [
    "@dataclass\n",
    "class Args:\n",
    "    attention_window: int = 512\n",
    "    max_pos: int = 4096\n",
    "    output_dir: str = \"/work-ceph/ogalolu/models/long_models\"\n",
    "    seed_model = \"sentence-transformers/LaBSE\"  # xlm-roberta-base, roberta-base\n",
    "\n",
    "args = Args()"
   ]
  },
  {
   "cell_type": "markdown",
   "id": "b46a9937",
   "metadata": {},
   "source": [
    "# Conversion to Long"
   ]
  },
  {
   "cell_type": "code",
   "execution_count": 11,
   "id": "de8cde11",
   "metadata": {},
   "outputs": [
    {
     "name": "stdout",
     "output_type": "stream",
     "text": [
      "Converting labse into labse-4096\n"
     ]
    },
    {
     "name": "stderr",
     "output_type": "stream",
     "text": [
      "Some weights of BertForMaskedLM were not initialized from the model checkpoint at sentence-transformers/LaBSE and are newly initialized: ['cls.predictions.bias', 'cls.predictions.transform.LayerNorm.weight', 'cls.predictions.transform.dense.bias', 'cls.predictions.transform.dense.weight', 'cls.predictions.decoder.weight', 'cls.predictions.transform.LayerNorm.bias']\n",
      "You should probably TRAIN this model on a down-stream task to be able to use it for predictions and inference.\n"
     ]
    },
    {
     "name": "stdout",
     "output_type": "stream",
     "text": [
      "saving model to /work-ceph/ogalolu/models/long_models/labse-4096\n"
     ]
    }
   ],
   "source": [
    "model_path = f'{args.output_dir}/{MODEL_MAPPING[args.seed_model]}-{args.max_pos}'\n",
    "if not os.path.exists(model_path):\n",
    "    os.makedirs(model_path)\n",
    "\n",
    "print(f'Converting {MODEL_MAPPING[args.seed_model]} into {MODEL_MAPPING[args.seed_model]}-{args.max_pos}')\n",
    "model, tokenizer = create_long_model(\n",
    "    seed_model=args.seed_model,\n",
    "    save_model_to=model_path, \n",
    "    attention_window=args.attention_window, \n",
    "    max_pos=args.max_pos)"
   ]
  },
  {
   "cell_type": "code",
   "execution_count": null,
   "id": "44309ca7",
   "metadata": {},
   "outputs": [],
   "source": []
  }
 ],
 "metadata": {
  "kernelspec": {
   "display_name": "Python 3 (ipykernel)",
   "language": "python",
   "name": "python3"
  },
  "language_info": {
   "codemirror_mode": {
    "name": "ipython",
    "version": 3
   },
   "file_extension": ".py",
   "mimetype": "text/x-python",
   "name": "python",
   "nbconvert_exporter": "python",
   "pygments_lexer": "ipython3",
   "version": "3.9.7"
  }
 },
 "nbformat": 4,
 "nbformat_minor": 5
}
