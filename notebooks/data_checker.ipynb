{
 "cells": [
  {
   "cell_type": "code",
   "execution_count": 70,
   "metadata": {},
   "outputs": [],
   "source": [
    "import os\n",
    "import sys\n",
    "import configparser\n",
    "from dataclasses import dataclass\n",
    "\n",
    "import datasets\n",
    "import torch\n",
    "\n",
    "from nltk import sent_tokenize\n",
    "from datasets import load_from_disk\n",
    "from tokenizers import Tokenizer\n",
    "from transformers import BertModel, AutoTokenizer, AutoModel, BertTokenizerFast\n",
    "from torch.utils.data import DataLoader"
   ]
  },
  {
   "cell_type": "markdown",
   "metadata": {},
   "source": [
    "# Loading"
   ]
  },
  {
   "cell_type": "code",
   "execution_count": 2,
   "metadata": {},
   "outputs": [],
   "source": [
    "file_name = \"../tokenizers/tokenizer_2_1000.json\"\n",
    "\n",
    "base_tokenizer = Tokenizer.from_file(file_name)\n",
    "tokenizer = BertTokenizerFast(tokenizer_object=base_tokenizer)"
   ]
  },
  {
   "cell_type": "code",
   "execution_count": 6,
   "metadata": {},
   "outputs": [],
   "source": [
    "config = configparser.ConfigParser()\n",
    "config.read('../config.ini')\n",
    "\n",
    "root_dir = r\"C:\\Users\\onurg\\.cache\\huggingface\\datasets\"\n",
    "data_dir = \"updated_wiki40b\"\n",
    "\n",
    "path = os.path.join(root_dir, data_dir, \"long_small_dataset\")\n",
    "\n",
    "dataset = load_from_disk(path)\n",
    "dataset"
   ]
  },
  {
   "cell_type": "markdown",
   "metadata": {},
   "source": [
    "# Prototyping"
   ]
  },
  {
   "cell_type": "code",
   "execution_count": 12,
   "metadata": {},
   "outputs": [],
   "source": [
    "small_dataset = dataset.select(range(100))"
   ]
  },
  {
   "cell_type": "code",
   "execution_count": 138,
   "metadata": {},
   "outputs": [],
   "source": [
    "@dataclass\n",
    "class Config:\n",
    "    def __init__(self, max_sentence_len, max_document_len, per_device_train_batch_size):\n",
    "      self.max_sentence_len = max_sentence_len\n",
    "      self.max_document_len = max_document_len\n",
    "      self.per_device_train_batch_size = per_device_train_batch_size\n",
    "\n",
    "args = Config(128,64, 8)"
   ]
  },
  {
   "cell_type": "code",
   "execution_count": 141,
   "metadata": {},
   "outputs": [],
   "source": [
    "def tokenize(example, tokenizer, args):\n",
    "    # https://github.com/castorini/hedwig/blob/master/datasets/bert_processors/abstract_processor.py\n",
    "    # https://github.com/abhishekkrthakur/bert-entity-extraction/blob/master/src/dataset.py\n",
    "\n",
    "    def tokenize_helper(article, tokenizer, args):\n",
    "        # TODO: comment\n",
    "        sentences = [tokenizer.encode(sentence, add_special_tokens=False) for sentence in sent_tokenize(article)] \n",
    "        sentences = [sentence[:args.max_sentence_len - 2] for sentence in sentences]\n",
    "        sentences = [[tokenizer.convert_tokens_to_ids(\"[CLS]\")] + sentence + [tokenizer.convert_tokens_to_ids(\"[SEP]\")] for sentence in sentences]\n",
    "\n",
    "        sentence_lengths = [len(sentence) for sentence in sentences]\n",
    "        # TODO: check for attention_mask ID\n",
    "        mask = [[1]*sen_len for sen_len in sentence_lengths]\n",
    "\n",
    "        return sentences, mask\n",
    " \n",
    "    # TODO: make \"end\" dynamic\n",
    "    for i in range(1, 3):\n",
    "        \n",
    "        # example[f\"article_{i}\"] = [tokenizer.encode(sentence, \n",
    "        #                                             truncation=True,\n",
    "        #                                             add_special_tokens=True,                                            \n",
    "        #                                             max_length=args.max_sentence_len) for sentence in sent_tokenize(example[f\"article_{i}\"])]\n",
    "\n",
    "        example[f\"article_{i}\"], example[f\"mask_{i}\"] = tokenize_helper(example[f\"article_{i}\"], tokenizer, args)\n",
    "        \n",
    "    return example"
   ]
  },
  {
   "cell_type": "code",
   "execution_count": 142,
   "metadata": {},
   "outputs": [
    {
     "name": "stderr",
     "output_type": "stream",
     "text": [
      "100%|██████████| 100/100 [00:02<00:00, 44.69ex/s]\n"
     ]
    }
   ],
   "source": [
    "new_dataset = small_dataset.map(tokenize, fn_kwargs={\"tokenizer\": tokenizer, \"args\": args})"
   ]
  },
  {
   "cell_type": "markdown",
   "metadata": {},
   "source": [
    "## Data Colator"
   ]
  },
  {
   "cell_type": "code",
   "execution_count": 170,
   "metadata": {},
   "outputs": [],
   "source": [
    "@dataclass\n",
    "class CustomDataCollator:\n",
    "    \"\"\" A data collator which can be used for dynamic padding, when each instance of a batch is a \n",
    "    list of lists. Each sentence is a list and each document (instance of a batch) contains multiple \n",
    "    sentences.\n",
    "    \"\"\"\n",
    "    tokenizer: None\n",
    "    max_sentence_len: int = 128\n",
    "    max_document_len: int = 32\n",
    "    return_tensors: str = \"pt\"\n",
    "    \n",
    "\n",
    "    def __call__(self, features: list) -> dict:\n",
    "        batch = {}\n",
    "\n",
    "        # TODO: make article number dynamic\n",
    "        for article_number in range(1, 3):\n",
    "            batch_sentences = list()\n",
    "            batch_masks = list()\n",
    "            \n",
    "            sen_len_article = [len(sentence) for instance in features for sentence in instance[f\"article_{article_number}\"]]\n",
    "            sen_len_mask = [len(sentence) for instance in features for sentence in instance[f\"mask_{article_number}\"]]\n",
    "            \n",
    "            assert sen_len_article == sen_len_mask, (\n",
    "                f\"There is a mismatch for article_{article_number} and mask_{article_number}.\"\n",
    "                )\n",
    "            \n",
    "            sen_len = min(self.max_sentence_len, max(sen_len_article))\n",
    "            \n",
    "            doc_len_article = [len(instance[f\"mask_{article_number}\"]) for instance in features]\n",
    "            doc_len = min(self.max_document_len, max(doc_len_article))\n",
    "\n",
    "            for id in range(len(features)):\n",
    "                sentences, masks = self.pad_sentence(sen_len, features[id], article_number)\n",
    "                self.pad_document(sentences, masks, doc_len)\n",
    "\n",
    "                batch_sentences.append(sentences)\n",
    "                batch_masks.append(masks)\n",
    "      \n",
    "            # TODO: decide on dtype for tensor, torch.int/torch.long?\n",
    "            batch[f\"article_1\": torch.tensor(batch_sentences, dtype=torch.int64)]\n",
    "            batch[f\"mask_1\": torch.tensor(batch_masks, dtype=torch.int64)]\n",
    "        \n",
    "        return batch\n",
    "\n",
    "    def pad_sentence(self, sen_len: int, feature: dict, i: int) -> tuple():\n",
    "        sentences = [sentence + [self.tokenizer.convert_tokens_to_ids(\"[PAD]\")] * (sen_len - len(sentence))  for sentence in feature[f\"article_{i}\"]]\n",
    "        # TODO: check for attention_mask ID\n",
    "        masks = [sentence + [0] * (sen_len - len(sentence))  for sentence in feature[f\"mask_{i}\"]]\n",
    "\n",
    "        return sentences, masks\n",
    "\n",
    "    def pad_document(self, sentences: list, masks: list, doc_len: int):\n",
    "        mask_padding_array = [0 for i0 in range(len(masks[0]))]\n",
    "        sentence_padding_array = [self.tokenizer.convert_tokens_to_ids(\"[PAD]\") for i0 in range(len(sentences[0]))]\n",
    "\n",
    "        if len(sentences) < doc_len:\n",
    "            sentences += [sentence_padding_array for difference in range(doc_len - len(sentences))]\n",
    "            masks += [mask_padding_array for difference in range(doc_len - len(masks))]\n",
    "        elif len(sentences) > doc_len:\n",
    "            sentences = sentences[: doc_len]\n",
    "            masks = masks[: doc_len]"
   ]
  },
  {
   "cell_type": "code",
   "execution_count": 171,
   "metadata": {},
   "outputs": [],
   "source": [
    "data_collator = CustomDataCollator(tokenizer=tokenizer, \n",
    "                                   max_sentence_len=args.max_sentence_len, \n",
    "                                   max_document_len=args.max_document_len)\n",
    "\n",
    "train_dataloader = DataLoader(\n",
    "    new_dataset, shuffle=True, collate_fn=data_collator, batch_size=args.per_device_train_batch_size\n",
    ")"
   ]
  },
  {
   "cell_type": "code",
   "execution_count": 178,
   "metadata": {},
   "outputs": [
    {
     "name": "stdout",
     "output_type": "stream",
     "text": [
      "36\n",
      "36\n",
      "64\n",
      "64\n"
     ]
    },
    {
     "ename": "SystemExit",
     "evalue": "",
     "output_type": "error",
     "traceback": [
      "An exception has occurred, use %tb to see the full traceback.\n",
      "\u001b[1;31mSystemExit\u001b[0m\n"
     ]
    }
   ],
   "source": [
    "for i in train_dataloader:\n",
    "    print(i)"
   ]
  }
 ],
 "metadata": {
  "interpreter": {
   "hash": "33ab4daa0c7d977fc22aa25c36b9c12b9e43d0049f266348c79f509c14309a26"
  },
  "kernelspec": {
   "display_name": "Python 3.7.3 64-bit",
   "language": "python",
   "name": "python3"
  },
  "language_info": {
   "codemirror_mode": {
    "name": "ipython",
    "version": 3
   },
   "file_extension": ".py",
   "mimetype": "text/x-python",
   "name": "python",
   "nbconvert_exporter": "python",
   "pygments_lexer": "ipython3",
   "version": "3.7.3"
  },
  "orig_nbformat": 4
 },
 "nbformat": 4,
 "nbformat_minor": 2
}
