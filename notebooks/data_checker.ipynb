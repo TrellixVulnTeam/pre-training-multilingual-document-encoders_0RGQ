{
 "cells": [
  {
   "cell_type": "code",
   "execution_count": 238,
   "metadata": {},
   "outputs": [],
   "source": [
    "import os\n",
    "import sys\n",
    "import configparser\n",
    "from dataclasses import dataclass\n",
    "\n",
    "import datasets\n",
    "import torch\n",
    "\n",
    "from torch import nn\n",
    "from nltk import sent_tokenize\n",
    "from datasets import load_from_disk\n",
    "from tokenizers import Tokenizer\n",
    "from transformers import BertModel, AutoTokenizer, AutoModel, BertTokenizerFast, BertPreTrainedModel\n",
    "from torch.utils.data import DataLoader"
   ]
  },
  {
   "cell_type": "markdown",
   "metadata": {},
   "source": [
    "# Loading"
   ]
  },
  {
   "cell_type": "code",
   "execution_count": 270,
   "metadata": {},
   "outputs": [],
   "source": [
    "file_name = \"../tokenizers/tokenizer_2_1000.json\"\n",
    "\n",
    "base_tokenizer = Tokenizer.from_file(file_name)\n",
    "tokenizer = BertTokenizerFast(tokenizer_object=base_tokenizer)\n",
    "\n",
    "additional_tokenizer = AutoTokenizer.from_pretrained(\"bert-base-uncased\")"
   ]
  },
  {
   "cell_type": "code",
   "execution_count": 6,
   "metadata": {},
   "outputs": [],
   "source": [
    "config = configparser.ConfigParser()\n",
    "config.read('../config.ini')\n",
    "\n",
    "root_dir = r\"C:\\Users\\onurg\\.cache\\huggingface\\datasets\"\n",
    "data_dir = \"updated_wiki40b\"\n",
    "\n",
    "path = os.path.join(root_dir, data_dir, \"long_small_dataset\")\n",
    "\n",
    "dataset = load_from_disk(path)\n",
    "dataset"
   ]
  },
  {
   "cell_type": "markdown",
   "metadata": {},
   "source": [
    "# Prototyping"
   ]
  },
  {
   "cell_type": "code",
   "execution_count": 12,
   "metadata": {},
   "outputs": [],
   "source": [
    "small_dataset = dataset.select(range(100))"
   ]
  },
  {
   "cell_type": "code",
   "execution_count": 281,
   "metadata": {},
   "outputs": [],
   "source": [
    "@dataclass\n",
    "class Args:\n",
    "    def __init__(self, max_sentence_len, max_document_len, per_device_train_batch_size, pretrained_model_path, upper_hidden_dimension, upper_nhead, upper_num_layers):\n",
    "      self.max_sentence_len = max_sentence_len\n",
    "      self.max_document_len = max_document_len\n",
    "      self.per_device_train_batch_size = per_device_train_batch_size\n",
    "      self.pretrained_model_path = pretrained_model_path\n",
    "      self.upper_hidden_dimension = upper_hidden_dimension\n",
    "      self. upper_nhead = upper_nhead\n",
    "      self.upper_num_layers = upper_num_layers\n",
    "\n",
    "args = Args(128,64, 8, \"bert-base-uncased\", 768, 8, 2)\n"
   ]
  },
  {
   "cell_type": "code",
   "execution_count": 141,
   "metadata": {},
   "outputs": [],
   "source": [
    "def tokenize(example, tokenizer, args):\n",
    "\n",
    "    def tokenize_helper(article, tokenizer, args):\n",
    "        # TODO: comment\n",
    "        sentences = [tokenizer.encode(sentence, add_special_tokens=False) for sentence in sent_tokenize(article)] \n",
    "        sentences = [sentence[:args.max_sentence_len - 2] for sentence in sentences]\n",
    "        sentences = [[tokenizer.convert_tokens_to_ids(\"[CLS]\")] + sentence + [tokenizer.convert_tokens_to_ids(\"[SEP]\")] for sentence in sentences]\n",
    "\n",
    "        sentence_lengths = [len(sentence) for sentence in sentences]\n",
    "        # TODO: check for attention_mask ID\n",
    "        mask = [[1]*sen_len for sen_len in sentence_lengths]\n",
    "\n",
    "        return sentences, mask\n",
    " \n",
    "    # TODO: make \"end\" dynamic\n",
    "    for i in range(1, 3):\n",
    "\n",
    "        example[f\"article_{i}\"], example[f\"mask_{i}\"] = tokenize_helper(example[f\"article_{i}\"], tokenizer, args)\n",
    "        \n",
    "    return example"
   ]
  },
  {
   "cell_type": "code",
   "execution_count": 254,
   "metadata": {},
   "outputs": [
    {
     "name": "stderr",
     "output_type": "stream",
     "text": [
      "100%|██████████| 100/100 [00:02<00:00, 38.60ex/s]\n"
     ]
    }
   ],
   "source": [
    "new_dataset = small_dataset.map(tokenize, fn_kwargs={\"tokenizer\": additional_tokenizer, \"args\": args})"
   ]
  },
  {
   "cell_type": "markdown",
   "metadata": {},
   "source": [
    "## Data Colator"
   ]
  },
  {
   "cell_type": "code",
   "execution_count": 255,
   "metadata": {},
   "outputs": [],
   "source": [
    "@dataclass\n",
    "class CustomDataCollator:\n",
    "    \"\"\" A data collator which can be used for dynamic padding, when each instance of a batch is a \n",
    "    list of lists. Each sentence is a list and each document (instance of a batch) contains multiple \n",
    "    sentences.\n",
    "    \"\"\"\n",
    "    tokenizer: None\n",
    "    max_sentence_len: int = 128\n",
    "    max_document_len: int = 32\n",
    "    return_tensors: str = \"pt\"\n",
    "    \n",
    "\n",
    "    def __call__(self, features: list) -> dict:\n",
    "        batch = {}\n",
    "\n",
    "        # TODO: make article number dynamic\n",
    "        for article_number in range(1, 3):\n",
    "            batch_sentences = list()\n",
    "            batch_masks = list()\n",
    "            \n",
    "            sen_len_article = [len(sentence) for instance in features for sentence in instance[f\"article_{article_number}\"]]\n",
    "            sen_len_mask = [len(sentence) for instance in features for sentence in instance[f\"mask_{article_number}\"]]\n",
    "            \n",
    "            assert sen_len_article == sen_len_mask, (\n",
    "                f\"There is a mismatch for article_{article_number} and mask_{article_number}.\"\n",
    "                )\n",
    "            \n",
    "            sen_len = min(self.max_sentence_len, max(sen_len_article))\n",
    "            \n",
    "            doc_len_article = [len(instance[f\"mask_{article_number}\"]) for instance in features]\n",
    "            doc_len = min(self.max_document_len, max(doc_len_article))\n",
    "            for feature in features:\n",
    "                sentences, masks = self.pad_sentence(sen_len, feature, article_number)\n",
    "                self.pad_document(sentences, masks, doc_len)\n",
    "\n",
    "                batch_sentences.append(sentences)\n",
    "                batch_masks.append(masks)\n",
    "            \n",
    "            # TODO: decide on dtype for tensor, torch.int/torch.long?\n",
    "            batch[f\"article_{article_number}\"] = torch.tensor(batch_sentences, dtype=torch.int64)\n",
    "            batch[f\"mask_{article_number}\"] = torch.tensor(batch_masks, dtype=torch.int64)  \n",
    "        return batch\n",
    "\n",
    "    def pad_sentence(self, sen_len: int, feature: dict, i: int) -> tuple():\n",
    "        sentences = [sentence + [self.tokenizer.convert_tokens_to_ids(\"[PAD]\")] * (sen_len - len(sentence))  for sentence in feature[f\"article_{i}\"]]\n",
    "        # TODO: check for attention_mask ID\n",
    "        masks = [sentence + [0] * (sen_len - len(sentence))  for sentence in feature[f\"mask_{i}\"]]\n",
    "        return sentences, masks\n",
    "\n",
    "    def pad_document(self, sentences: list, masks: list, doc_len: int):\n",
    "        mask_padding_array = [0 for i0 in range(len(masks[0]))]\n",
    "        sentence_padding_array = [self.tokenizer.convert_tokens_to_ids(\"[PAD]\") for i0 in range(len(sentences[0]))]\n",
    "\n",
    "        if len(sentences) < doc_len:\n",
    "            sentences += [sentence_padding_array for difference in range(doc_len - len(sentences))]\n",
    "            masks += [mask_padding_array for difference in range(doc_len - len(masks))]\n",
    "        elif len(sentences) > doc_len:\n",
    "            sentences[:] = sentences[: doc_len]\n",
    "            masks[:] = masks[: doc_len]\n"
   ]
  },
  {
   "cell_type": "code",
   "execution_count": 256,
   "metadata": {},
   "outputs": [],
   "source": [
    "data_collator = CustomDataCollator(tokenizer=additional_tokenizer, \n",
    "                                   max_sentence_len=args.max_sentence_len, \n",
    "                                   max_document_len=args.max_document_len)\n",
    "\n",
    "train_dataloader = DataLoader(\n",
    "    new_dataset, shuffle=True, collate_fn=data_collator, batch_size=args.per_device_train_batch_size\n",
    ")"
   ]
  },
  {
   "cell_type": "code",
   "execution_count": 284,
   "metadata": {},
   "outputs": [
    {
     "name": "stderr",
     "output_type": "stream",
     "text": [
      "Some weights of the model checkpoint at bert-base-uncased were not used when initializing LowerEncoder: ['cls.predictions.transform.dense.bias', 'cls.predictions.transform.LayerNorm.weight', 'cls.seq_relationship.weight', 'cls.predictions.decoder.weight', 'cls.predictions.bias', 'cls.predictions.transform.dense.weight', 'cls.predictions.transform.LayerNorm.bias', 'cls.seq_relationship.bias']\n",
      "- This IS expected if you are initializing LowerEncoder from the checkpoint of a model trained on another task or with another architecture (e.g. initializing a BertForSequenceClassification model from a BertForPreTraining model).\n",
      "- This IS NOT expected if you are initializing LowerEncoder from the checkpoint of a model that you expect to be exactly identical (initializing a BertForSequenceClassification model from a BertForSequenceClassification model).\n"
     ]
    }
   ],
   "source": [
    "class LowerEncoder(BertPreTrainedModel):\n",
    "    def __init__(self, config):\n",
    "        super().__init__(config)\n",
    "        self.bert = BertModel(config)\n",
    "        self.dropout = nn.Dropout(config.hidden_dropout_prob)\n",
    "        self.init_weights()\n",
    "        # TODO: post_init or init_weights?\n",
    "        # self.post_init()\n",
    "\n",
    "    def forward(self, input_ids, token_type_ids=None, attention_mask=None):\n",
    "        model_output = self.bert(input_ids, attention_mask=attention_mask, token_type_ids=token_type_ids)\n",
    "        # TODO: comment\n",
    "        output = model_output['last_hidden_state'][:,0,:]\n",
    "        return output\n",
    "\n",
    "\n",
    "class HiearchicalModel(nn.Module):\n",
    "    def __init__(self, args, **kwargs):\n",
    "        super().__init__()\n",
    "        # TODO: from pretrained or config\n",
    "        self.lower_model = LowerEncoder.from_pretrained(args.pretrained_model_path)\n",
    "        self.encoder_layer = nn.TransformerEncoderLayer(d_model=args.upper_hidden_dimension,\n",
    "                                                        nhead=args.upper_nhead,\n",
    "                                                        batch_first=True)\n",
    "        self.transformer_encoder = nn.TransformerEncoder(encoder_layer=self.encoder_layer,\n",
    "                                                         num_layers=args.upper_num_layers)\n",
    "\n",
    "    def forward(self, input_ids, token_type_ids=None, attention_mask=None):\n",
    "        input_ids = input_ids.permute(1, 0, 2)  # (sentences, batch_size, words)\n",
    "        attention_mask = attention_mask.permute(1, 0, 2) \n",
    "        lower_encoded = []\n",
    "        \n",
    "        for i_i, a_m in zip(input_ids, attention_mask):\n",
    "            lower_encoded.append(self.lower_model(i_i, a_m))\n",
    "            \n",
    "        # TODO: add document level [CLS]\n",
    "        \n",
    "        lower_output = torch.stack(lower_encoded)  # (sentences, batch_size, hidden_size)\n",
    "        lower_output = lower_output.permute(1, 0, 2)  # (batch_size, sentences, hidden_size)\n",
    "        upper_output = self.transformer_encoder(lower_output) # (batch_size, sentences, hidden_size)\n",
    "        upper_output = upper_output[:,0,:] # (batch_size, hidden_size)\n",
    "\n",
    "        return upper_output\n",
    "\n",
    "\n",
    "upper_model = HiearchicalModel(args)"
   ]
  },
  {
   "cell_type": "code",
   "execution_count": 285,
   "metadata": {},
   "outputs": [
    {
     "name": "stdout",
     "output_type": "stream",
     "text": [
      "torch.Size([8, 64, 128])\n",
      "torch.Size([8, 64, 128])\n",
      "torch.Size([8, 64, 128])\n",
      "torch.Size([8, 64, 128])\n",
      "torch.Size([8, 64, 116])\n",
      "torch.Size([8, 64, 128])\n",
      "torch.Size([8, 64, 128])\n",
      "torch.Size([8, 43, 128])\n",
      "torch.Size([8, 46, 128])\n",
      "torch.Size([8, 64, 128])\n",
      "torch.Size([8, 64, 128])\n",
      "torch.Size([8, 64, 128])\n",
      "torch.Size([4, 64, 128])\n"
     ]
    }
   ],
   "source": [
    "for batch in train_dataloader:\n",
    "    \n",
    "     output = upper_model(input_ids= batch[\"article_1\"],\n",
    "                        attention_mask=batch[\"mask_1\"])"
   ]
  }
 ],
 "metadata": {
  "interpreter": {
   "hash": "33ab4daa0c7d977fc22aa25c36b9c12b9e43d0049f266348c79f509c14309a26"
  },
  "kernelspec": {
   "display_name": "Python 3.7.3 64-bit",
   "language": "python",
   "name": "python3"
  },
  "language_info": {
   "codemirror_mode": {
    "name": "ipython",
    "version": 3
   },
   "file_extension": ".py",
   "mimetype": "text/x-python",
   "name": "python",
   "nbconvert_exporter": "python",
   "pygments_lexer": "ipython3",
   "version": "3.7.3"
  },
  "orig_nbformat": 4
 },
 "nbformat": 4,
 "nbformat_minor": 2
}
