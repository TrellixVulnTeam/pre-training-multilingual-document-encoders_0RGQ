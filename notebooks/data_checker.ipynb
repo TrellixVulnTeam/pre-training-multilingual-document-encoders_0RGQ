{
 "cells": [
  {
   "cell_type": "code",
   "execution_count": 8,
   "metadata": {},
   "outputs": [],
   "source": [
    "import os\n",
    "import configparser\n",
    "from dataclasses import dataclass\n",
    "\n",
    "import datasets\n",
    "\n",
    "from nltk import sent_tokenize\n",
    "from datasets import load_from_disk\n",
    "from tokenizers import Tokenizer\n",
    "from transformers import BertModel, AutoTokenizer, AutoModel, BertTokenizerFast"
   ]
  },
  {
   "cell_type": "markdown",
   "metadata": {},
   "source": [
    "# Loading"
   ]
  },
  {
   "cell_type": "code",
   "execution_count": 13,
   "metadata": {},
   "outputs": [],
   "source": [
    "file_name = \"tokenizers/tokenizer_2_1000.json\"\n",
    "\n",
    "base_tokenizer = Tokenizer.from_file(file_name)\n",
    "tokenizer = BertTokenizerFast(tokenizer_object=base_tokenizer)"
   ]
  },
  {
   "cell_type": "code",
   "execution_count": 4,
   "metadata": {},
   "outputs": [],
   "source": [
    "root_dir = r\"C:\\Users\\onurg\\.cache\\huggingface\\datasets\"\n",
    "data_dir = \"updated_wiki40b\"\n",
    "\n",
    "path = os.path.join(root_dir, data_dir, \"long_small_dataset\")"
   ]
  },
  {
   "cell_type": "code",
   "execution_count": 5,
   "metadata": {},
   "outputs": [],
   "source": [
    "dataset = load_from_disk(path)\n",
    "dataset"
   ]
  },
  {
   "cell_type": "code",
   "execution_count": 7,
   "metadata": {},
   "outputs": [
    {
     "data": {
      "text/plain": [
       "['config.ini']"
      ]
     },
     "execution_count": 7,
     "metadata": {},
     "output_type": "execute_result"
    }
   ],
   "source": [
    "config = configparser.ConfigParser()\n",
    "config.read('config.ini')"
   ]
  },
  {
   "cell_type": "markdown",
   "metadata": {},
   "source": [
    "# Prototyping"
   ]
  },
  {
   "cell_type": "code",
   "execution_count": 11,
   "metadata": {},
   "outputs": [],
   "source": [
    "small_dataset = dataset.select(range(100))"
   ]
  },
  {
   "cell_type": "code",
   "execution_count": 14,
   "metadata": {},
   "outputs": [],
   "source": [
    "@dataclass\n",
    "class Config:\n",
    "    def __init__(self, max_sentence_len, max_doc_len):\n",
    "      self.max_sentence_len = max_sentence_len\n",
    "      self.max_doc_len = max_doc_len\n",
    "\n",
    "args = Config(128,32)"
   ]
  },
  {
   "cell_type": "code",
   "execution_count": 15,
   "metadata": {},
   "outputs": [],
   "source": [
    "def tokenize(example, tokenizer, args):\n",
    "    # https://github.com/castorini/hedwig/blob/master/datasets/bert_processors/abstract_processor.py\n",
    "    # https://github.com/abhishekkrthakur/bert-entity-extraction/blob/master/src/dataset.py\n",
    "\n",
    "    def tokenize_helper(article, tokenizer, args):\n",
    "        # TODO: comment\n",
    "        sentences = [tokenizer.encode(sentence, add_special_tokens=False) for sentence in sent_tokenize(article)] \n",
    "        sentences = [sentence[:args.max_sentence_len - 2] for sentence in sentences]\n",
    "        sentences = [[tokenizer.convert_tokens_to_ids(\"[CLS]\")] + sentence + [tokenizer.convert_tokens_to_ids(\"[SEP]\")] for sentence in sentences]\n",
    "\n",
    "        sentence_lengths = [len(sentence) for sentence in sentences]\n",
    "        mask = [[1]*sen_len for sen_len in sentence_lengths]\n",
    "\n",
    "        return sentences, mask\n",
    " \n",
    "    for i in range(1, 3):\n",
    "        \n",
    "        # example[f\"article_{i}\"] = [tokenizer.encode(sentence, \n",
    "        #                                             truncation=True,\n",
    "        #                                             add_special_tokens=True,                                            \n",
    "        #                                             max_length=args.max_sentence_len) for sentence in sent_tokenize(example[f\"article_{i}\"])]\n",
    "                                                \n",
    "        #print(example)\n",
    "\n",
    "        example[f\"article_{i}\"], example[f\"mask_{i}\"] = tokenize_helper(example[f\"article_{i}\"], tokenizer, args)\n",
    "        \n",
    "    return example"
   ]
  },
  {
   "cell_type": "code",
   "execution_count": 16,
   "metadata": {},
   "outputs": [
    {
     "name": "stderr",
     "output_type": "stream",
     "text": [
      "100%|██████████| 100/100 [00:02<00:00, 43.79ex/s]\n"
     ]
    }
   ],
   "source": [
    "new_dataset = small_dataset.map(tokenize, fn_kwargs={\"tokenizer\": tokenizer, \"args\": args})"
   ]
  },
  {
   "cell_type": "code",
   "execution_count": 1,
   "metadata": {},
   "outputs": [
    {
     "ename": "NameError",
     "evalue": "name 'new_dataset' is not defined",
     "output_type": "error",
     "traceback": [
      "\u001b[1;31m---------------------------------------------------------------------------\u001b[0m",
      "\u001b[1;31mNameError\u001b[0m                                 Traceback (most recent call last)",
      "\u001b[1;32m~\\AppData\\Local\\Temp\\ipykernel_22300\\469639636.py\u001b[0m in \u001b[0;36m<module>\u001b[1;34m\u001b[0m\n\u001b[1;32m----> 1\u001b[1;33m \u001b[0mnew_dataset\u001b[0m\u001b[1;33m\u001b[0m\u001b[1;33m\u001b[0m\u001b[0m\n\u001b[0m",
      "\u001b[1;31mNameError\u001b[0m: name 'new_dataset' is not defined"
     ]
    }
   ],
   "source": [
    "new_dataset"
   ]
  }
 ],
 "metadata": {
  "interpreter": {
   "hash": "33ab4daa0c7d977fc22aa25c36b9c12b9e43d0049f266348c79f509c14309a26"
  },
  "kernelspec": {
   "display_name": "Python 3.7.3 64-bit",
   "language": "python",
   "name": "python3"
  },
  "language_info": {
   "codemirror_mode": {
    "name": "ipython",
    "version": 3
   },
   "file_extension": ".py",
   "mimetype": "text/x-python",
   "name": "python",
   "nbconvert_exporter": "python",
   "pygments_lexer": "ipython3",
   "version": "3.7.3"
  },
  "orig_nbformat": 4
 },
 "nbformat": 4,
 "nbformat_minor": 2
}
