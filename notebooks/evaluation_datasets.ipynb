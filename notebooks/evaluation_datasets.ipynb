{
 "cells": [
  {
   "cell_type": "code",
   "execution_count": 128,
   "id": "ec5e61f6",
   "metadata": {},
   "outputs": [],
   "source": [
    "from collections import Counter\n",
    "import os\n",
    "\n",
    "import datasets\n",
    "import pandas as pd\n",
    "from datasets import load_dataset, load_from_disk, Dataset, DatasetDict\n",
    "from nltk import sent_tokenize"
   ]
  },
  {
   "cell_type": "markdown",
   "id": "b2a6db44",
   "metadata": {},
   "source": [
    "'Sugar prices extended losses on the local market on Wednesday, dealers said. Consumer demand and enquiries from retailers remained low while fresh offerings by stockists dragged prices downward. \"Arrivals remained at a low ebb as most delivery tenders out of the free sale quota for the current month are already exhausted and in turn sugar mill delivery also remained unquoted today,\" one broker said. In the ready delivery sugar S-30 fell by 5/15 rupees to 1,225/1,260 rupees per quintal while M-30 fell by 10 rupees to 1,265/1,350 rupees per quintal. The free sale quota for the current month is 650,000 tonnes while a higher figure, 700,000 tonnes, has been fixed for February. \"Higher quota for next month also subdued market sentiment as the end of the month is nearby,\" the dealer said. -- Bombay Commodities +91-22-265 9000'"
   ]
  },
  {
   "cell_type": "code",
   "execution_count": 131,
   "id": "719d1e18",
   "metadata": {},
   "outputs": [],
   "source": [
    "languages = [\"de\", \"en\", \"es\", \"fr\", \"it\", \"ja\", \"ru\", \"zh\"]\n",
    "sections = (\"dev\", \"test\", \"train.10000\")\n",
    "min_sentences = 5\n",
    "data_dir = \"/work/ogalolu/datasets/\"\n",
    "dataset_type = \"mldoc\""
   ]
  },
  {
   "cell_type": "code",
   "execution_count": 132,
   "id": "9f5bf655",
   "metadata": {},
   "outputs": [],
   "source": [
    "# Creating dictionary of datasets after preprocessing\n",
    "\n",
    "def dict_creator(language: str, sections: tuple) -> dict:\n",
    "    dataset_dict = {}\n",
    "    for section in sections:\n",
    "        df = pd.read_csv(f\"/work/ogalolu/data/mldoc/{language}/{language}.{section}\", sep=\"\\t\", header =None)\n",
    "        df = df.rename(columns={1: \"text\", 0: \"labels\"})\n",
    "        df[\"labels\"] = df[\"labels\"].map({\"CCAT\": 0, \"ECAT\": 1, \"GCAT\": 2, \"MCAT\": 3})\n",
    "        dataset = Dataset.from_pandas(df)\n",
    "        dataset_dict[section] = dataset\n",
    "        \n",
    "    return dataset_dict"
   ]
  },
  {
   "cell_type": "code",
   "execution_count": 133,
   "id": "18bc0080",
   "metadata": {},
   "outputs": [],
   "source": [
    "# Creating datasets.DatasetDict \n",
    "\n",
    "def dataset_creator(language: str, dataset_dict: dict) -> datasets.DatasetDict:\n",
    "    dataset = DatasetDict({\n",
    "    \"train\": dataset_dict[\"train.10000\"],\n",
    "    \"validation\": dataset_dict[\"dev\"],\n",
    "    \"test\": dataset_dict[\"test\"],\n",
    "    })\n",
    "    return dataset\n",
    "        "
   ]
  },
  {
   "cell_type": "code",
   "execution_count": 134,
   "id": "51fb0d08",
   "metadata": {},
   "outputs": [],
   "source": [
    "# Filtering out the shorter sentences\n",
    "\n",
    "def filter_short(example, min_sentences: int) -> bool:\n",
    "    if len(sent_tokenize(example[\"text\"])) <= min_sentences:\n",
    "            return False\n",
    "    return True\n",
    "    "
   ]
  },
  {
   "cell_type": "code",
   "execution_count": 135,
   "id": "89f2b49c",
   "metadata": {},
   "outputs": [],
   "source": [
    "# Checking the distrubiton after filtering the datasets\n",
    "\n",
    "def dist_checker(dataset_dict: datasets.DatasetDict ):\n",
    "    for section in (\"train\", \"validation\", \"test\"):\n",
    "        ds = dataset_dict[section]\n",
    "        ls = ds[\"labels\"]\n",
    "        cnt = Counter(ls)\n",
    "        print(cnt)      "
   ]
  },
  {
   "cell_type": "code",
   "execution_count": 136,
   "id": "6563aa1f",
   "metadata": {},
   "outputs": [
    {
     "name": "stdout",
     "output_type": "stream",
     "text": [
      "DatasetDict({\n",
      "    train: Dataset({\n",
      "        features: ['labels', 'text'],\n",
      "        num_rows: 10000\n",
      "    })\n",
      "    validation: Dataset({\n",
      "        features: ['labels', 'text'],\n",
      "        num_rows: 1000\n",
      "    })\n",
      "    test: Dataset({\n",
      "        features: ['labels', 'text'],\n",
      "        num_rows: 4000\n",
      "    })\n",
      "})\n"
     ]
    },
    {
     "data": {
      "application/vnd.jupyter.widget-view+json": {
       "model_id": "b261083444ad4e6384b83ad30f64f5f3",
       "version_major": 2,
       "version_minor": 0
      },
      "text/plain": [
       "  0%|          | 0/10 [00:00<?, ?ba/s]"
      ]
     },
     "metadata": {},
     "output_type": "display_data"
    },
    {
     "data": {
      "application/vnd.jupyter.widget-view+json": {
       "model_id": "d365e154779140e3ac8b135634e75fa4",
       "version_major": 2,
       "version_minor": 0
      },
      "text/plain": [
       "  0%|          | 0/1 [00:00<?, ?ba/s]"
      ]
     },
     "metadata": {},
     "output_type": "display_data"
    },
    {
     "data": {
      "application/vnd.jupyter.widget-view+json": {
       "model_id": "8e703a60dc4c4b3582dd9fcbd7215058",
       "version_major": 2,
       "version_minor": 0
      },
      "text/plain": [
       "  0%|          | 0/4 [00:00<?, ?ba/s]"
      ]
     },
     "metadata": {},
     "output_type": "display_data"
    },
    {
     "name": "stdout",
     "output_type": "stream",
     "text": [
      "DatasetDict({\n",
      "    train: Dataset({\n",
      "        features: ['labels', 'text'],\n",
      "        num_rows: 8851\n",
      "    })\n",
      "    validation: Dataset({\n",
      "        features: ['labels', 'text'],\n",
      "        num_rows: 875\n",
      "    })\n",
      "    test: Dataset({\n",
      "        features: ['labels', 'text'],\n",
      "        num_rows: 3530\n",
      "    })\n",
      "})\n",
      "Counter({2: 2317, 0: 2263, 3: 2227, 1: 2044})\n",
      "Counter({2: 254, 3: 214, 1: 207, 0: 200})\n",
      "Counter({2: 969, 0: 876, 3: 861, 1: 824})\n",
      "DatasetDict({\n",
      "    train: Dataset({\n",
      "        features: ['labels', 'text'],\n",
      "        num_rows: 10000\n",
      "    })\n",
      "    validation: Dataset({\n",
      "        features: ['labels', 'text'],\n",
      "        num_rows: 1000\n",
      "    })\n",
      "    test: Dataset({\n",
      "        features: ['labels', 'text'],\n",
      "        num_rows: 4000\n",
      "    })\n",
      "})\n"
     ]
    },
    {
     "data": {
      "application/vnd.jupyter.widget-view+json": {
       "model_id": "39e5b5d1fa2c492d9ccd241fd8fa9b71",
       "version_major": 2,
       "version_minor": 0
      },
      "text/plain": [
       "  0%|          | 0/10 [00:00<?, ?ba/s]"
      ]
     },
     "metadata": {},
     "output_type": "display_data"
    },
    {
     "data": {
      "application/vnd.jupyter.widget-view+json": {
       "model_id": "6b9278e7266a4a448e946e7261433731",
       "version_major": 2,
       "version_minor": 0
      },
      "text/plain": [
       "  0%|          | 0/1 [00:00<?, ?ba/s]"
      ]
     },
     "metadata": {},
     "output_type": "display_data"
    },
    {
     "data": {
      "application/vnd.jupyter.widget-view+json": {
       "model_id": "e0ddea551c69442fbfdaae6ef9403149",
       "version_major": 2,
       "version_minor": 0
      },
      "text/plain": [
       "  0%|          | 0/4 [00:00<?, ?ba/s]"
      ]
     },
     "metadata": {},
     "output_type": "display_data"
    },
    {
     "name": "stdout",
     "output_type": "stream",
     "text": [
      "DatasetDict({\n",
      "    train: Dataset({\n",
      "        features: ['labels', 'text'],\n",
      "        num_rows: 7304\n",
      "    })\n",
      "    validation: Dataset({\n",
      "        features: ['labels', 'text'],\n",
      "        num_rows: 703\n",
      "    })\n",
      "    test: Dataset({\n",
      "        features: ['labels', 'text'],\n",
      "        num_rows: 2920\n",
      "    })\n",
      "})\n",
      "Counter({2: 2172, 3: 1854, 1: 1654, 0: 1624})\n",
      "Counter({2: 219, 3: 198, 0: 146, 1: 140})\n",
      "Counter({2: 887, 3: 746, 1: 672, 0: 615})\n",
      "DatasetDict({\n",
      "    train: Dataset({\n",
      "        features: ['labels', 'text'],\n",
      "        num_rows: 9458\n",
      "    })\n",
      "    validation: Dataset({\n",
      "        features: ['labels', 'text'],\n",
      "        num_rows: 1000\n",
      "    })\n",
      "    test: Dataset({\n",
      "        features: ['labels', 'text'],\n",
      "        num_rows: 4000\n",
      "    })\n",
      "})\n"
     ]
    },
    {
     "data": {
      "application/vnd.jupyter.widget-view+json": {
       "model_id": "c298384f457f43a1b9ad273a46fba59b",
       "version_major": 2,
       "version_minor": 0
      },
      "text/plain": [
       "  0%|          | 0/10 [00:00<?, ?ba/s]"
      ]
     },
     "metadata": {},
     "output_type": "display_data"
    },
    {
     "data": {
      "application/vnd.jupyter.widget-view+json": {
       "model_id": "6b2993c1cf95471f95ff289c0de1a3c6",
       "version_major": 2,
       "version_minor": 0
      },
      "text/plain": [
       "  0%|          | 0/1 [00:00<?, ?ba/s]"
      ]
     },
     "metadata": {},
     "output_type": "display_data"
    },
    {
     "data": {
      "application/vnd.jupyter.widget-view+json": {
       "model_id": "3169d320761f4faca3bea58fe9568a6b",
       "version_major": 2,
       "version_minor": 0
      },
      "text/plain": [
       "  0%|          | 0/4 [00:00<?, ?ba/s]"
      ]
     },
     "metadata": {},
     "output_type": "display_data"
    },
    {
     "name": "stdout",
     "output_type": "stream",
     "text": [
      "DatasetDict({\n",
      "    train: Dataset({\n",
      "        features: ['labels', 'text'],\n",
      "        num_rows: 3438\n",
      "    })\n",
      "    validation: Dataset({\n",
      "        features: ['labels', 'text'],\n",
      "        num_rows: 486\n",
      "    })\n",
      "    test: Dataset({\n",
      "        features: ['labels', 'text'],\n",
      "        num_rows: 1962\n",
      "    })\n",
      "})\n",
      "Counter({3: 2733, 0: 355, 2: 205, 1: 145})\n",
      "Counter({0: 178, 2: 154, 3: 79, 1: 75})\n",
      "Counter({0: 693, 2: 559, 3: 423, 1: 287})\n",
      "DatasetDict({\n",
      "    train: Dataset({\n",
      "        features: ['labels', 'text'],\n",
      "        num_rows: 10000\n",
      "    })\n",
      "    validation: Dataset({\n",
      "        features: ['labels', 'text'],\n",
      "        num_rows: 1000\n",
      "    })\n",
      "    test: Dataset({\n",
      "        features: ['labels', 'text'],\n",
      "        num_rows: 4000\n",
      "    })\n",
      "})\n"
     ]
    },
    {
     "data": {
      "application/vnd.jupyter.widget-view+json": {
       "model_id": "2ff2a59199d149ec9d98cd5c8c3fbc66",
       "version_major": 2,
       "version_minor": 0
      },
      "text/plain": [
       "  0%|          | 0/10 [00:00<?, ?ba/s]"
      ]
     },
     "metadata": {},
     "output_type": "display_data"
    },
    {
     "data": {
      "application/vnd.jupyter.widget-view+json": {
       "model_id": "72b024717d4343f2bfc3a12bdfa64ebd",
       "version_major": 2,
       "version_minor": 0
      },
      "text/plain": [
       "  0%|          | 0/1 [00:00<?, ?ba/s]"
      ]
     },
     "metadata": {},
     "output_type": "display_data"
    },
    {
     "data": {
      "application/vnd.jupyter.widget-view+json": {
       "model_id": "c3c61e8ac2c041dfa336f6c3f043594b",
       "version_major": 2,
       "version_minor": 0
      },
      "text/plain": [
       "  0%|          | 0/4 [00:00<?, ?ba/s]"
      ]
     },
     "metadata": {},
     "output_type": "display_data"
    },
    {
     "name": "stdout",
     "output_type": "stream",
     "text": [
      "DatasetDict({\n",
      "    train: Dataset({\n",
      "        features: ['labels', 'text'],\n",
      "        num_rows: 7490\n",
      "    })\n",
      "    validation: Dataset({\n",
      "        features: ['labels', 'text'],\n",
      "        num_rows: 745\n",
      "    })\n",
      "    test: Dataset({\n",
      "        features: ['labels', 'text'],\n",
      "        num_rows: 2985\n",
      "    })\n",
      "})\n",
      "Counter({2: 2093, 1: 1865, 3: 1851, 0: 1681})\n",
      "Counter({3: 194, 2: 192, 1: 185, 0: 174})\n",
      "Counter({2: 807, 3: 760, 0: 716, 1: 702})\n",
      "DatasetDict({\n",
      "    train: Dataset({\n",
      "        features: ['labels', 'text'],\n",
      "        num_rows: 10000\n",
      "    })\n",
      "    validation: Dataset({\n",
      "        features: ['labels', 'text'],\n",
      "        num_rows: 1000\n",
      "    })\n",
      "    test: Dataset({\n",
      "        features: ['labels', 'text'],\n",
      "        num_rows: 4000\n",
      "    })\n",
      "})\n"
     ]
    },
    {
     "data": {
      "application/vnd.jupyter.widget-view+json": {
       "model_id": "11bd3089a2cc4026b0df94a72829edda",
       "version_major": 2,
       "version_minor": 0
      },
      "text/plain": [
       "  0%|          | 0/10 [00:00<?, ?ba/s]"
      ]
     },
     "metadata": {},
     "output_type": "display_data"
    },
    {
     "data": {
      "application/vnd.jupyter.widget-view+json": {
       "model_id": "391a2ac471064fc1adccc2ac6aaf6b66",
       "version_major": 2,
       "version_minor": 0
      },
      "text/plain": [
       "  0%|          | 0/1 [00:00<?, ?ba/s]"
      ]
     },
     "metadata": {},
     "output_type": "display_data"
    },
    {
     "data": {
      "application/vnd.jupyter.widget-view+json": {
       "model_id": "3cc58889649241cb82cac896961e1f80",
       "version_major": 2,
       "version_minor": 0
      },
      "text/plain": [
       "  0%|          | 0/4 [00:00<?, ?ba/s]"
      ]
     },
     "metadata": {},
     "output_type": "display_data"
    },
    {
     "name": "stdout",
     "output_type": "stream",
     "text": [
      "DatasetDict({\n",
      "    train: Dataset({\n",
      "        features: ['labels', 'text'],\n",
      "        num_rows: 4550\n",
      "    })\n",
      "    validation: Dataset({\n",
      "        features: ['labels', 'text'],\n",
      "        num_rows: 438\n",
      "    })\n",
      "    test: Dataset({\n",
      "        features: ['labels', 'text'],\n",
      "        num_rows: 1822\n",
      "    })\n",
      "})\n",
      "Counter({0: 1649, 3: 1512, 1: 1094, 2: 295})\n",
      "Counter({3: 121, 0: 114, 1: 108, 2: 95})\n",
      "Counter({1: 498, 0: 491, 3: 435, 2: 398})\n",
      "DatasetDict({\n",
      "    train: Dataset({\n",
      "        features: ['labels', 'text'],\n",
      "        num_rows: 10000\n",
      "    })\n",
      "    validation: Dataset({\n",
      "        features: ['labels', 'text'],\n",
      "        num_rows: 1000\n",
      "    })\n",
      "    test: Dataset({\n",
      "        features: ['labels', 'text'],\n",
      "        num_rows: 4000\n",
      "    })\n",
      "})\n"
     ]
    },
    {
     "data": {
      "application/vnd.jupyter.widget-view+json": {
       "model_id": "a2f8cd931c204c2d93ecc938de99a890",
       "version_major": 2,
       "version_minor": 0
      },
      "text/plain": [
       "  0%|          | 0/10 [00:00<?, ?ba/s]"
      ]
     },
     "metadata": {},
     "output_type": "display_data"
    },
    {
     "data": {
      "application/vnd.jupyter.widget-view+json": {
       "model_id": "ca132b3ee30c452090e3f835bb18d22c",
       "version_major": 2,
       "version_minor": 0
      },
      "text/plain": [
       "  0%|          | 0/1 [00:00<?, ?ba/s]"
      ]
     },
     "metadata": {},
     "output_type": "display_data"
    },
    {
     "data": {
      "application/vnd.jupyter.widget-view+json": {
       "model_id": "cfc54457e10b44d6a0afe4c5ea78d2b5",
       "version_major": 2,
       "version_minor": 0
      },
      "text/plain": [
       "  0%|          | 0/4 [00:00<?, ?ba/s]"
      ]
     },
     "metadata": {},
     "output_type": "display_data"
    },
    {
     "name": "stdout",
     "output_type": "stream",
     "text": [
      "DatasetDict({\n",
      "    train: Dataset({\n",
      "        features: ['labels', 'text'],\n",
      "        num_rows: 8\n",
      "    })\n",
      "    validation: Dataset({\n",
      "        features: ['labels', 'text'],\n",
      "        num_rows: 0\n",
      "    })\n",
      "    test: Dataset({\n",
      "        features: ['labels', 'text'],\n",
      "        num_rows: 4\n",
      "    })\n",
      "})\n",
      "Counter({0: 8})\n",
      "Counter()\n",
      "Counter({0: 4})\n",
      "DatasetDict({\n",
      "    train: Dataset({\n",
      "        features: ['labels', 'text'],\n",
      "        num_rows: 5216\n",
      "    })\n",
      "    validation: Dataset({\n",
      "        features: ['labels', 'text'],\n",
      "        num_rows: 1000\n",
      "    })\n",
      "    test: Dataset({\n",
      "        features: ['labels', 'text'],\n",
      "        num_rows: 4000\n",
      "    })\n",
      "})\n"
     ]
    },
    {
     "data": {
      "application/vnd.jupyter.widget-view+json": {
       "model_id": "e8199bd091794ff498649deeffb53fcd",
       "version_major": 2,
       "version_minor": 0
      },
      "text/plain": [
       "  0%|          | 0/6 [00:00<?, ?ba/s]"
      ]
     },
     "metadata": {},
     "output_type": "display_data"
    },
    {
     "data": {
      "application/vnd.jupyter.widget-view+json": {
       "model_id": "a2492ec401b64f539ace75e63ea29a3a",
       "version_major": 2,
       "version_minor": 0
      },
      "text/plain": [
       "  0%|          | 0/1 [00:00<?, ?ba/s]"
      ]
     },
     "metadata": {},
     "output_type": "display_data"
    },
    {
     "data": {
      "application/vnd.jupyter.widget-view+json": {
       "model_id": "bfc5adc7383b4f20842413a69c962af6",
       "version_major": 2,
       "version_minor": 0
      },
      "text/plain": [
       "  0%|          | 0/4 [00:00<?, ?ba/s]"
      ]
     },
     "metadata": {},
     "output_type": "display_data"
    },
    {
     "name": "stdout",
     "output_type": "stream",
     "text": [
      "DatasetDict({\n",
      "    train: Dataset({\n",
      "        features: ['labels', 'text'],\n",
      "        num_rows: 3590\n",
      "    })\n",
      "    validation: Dataset({\n",
      "        features: ['labels', 'text'],\n",
      "        num_rows: 739\n",
      "    })\n",
      "    test: Dataset({\n",
      "        features: ['labels', 'text'],\n",
      "        num_rows: 2932\n",
      "    })\n",
      "})\n",
      "Counter({0: 1256, 1: 1102, 3: 853, 2: 379})\n",
      "Counter({0: 228, 1: 216, 2: 167, 3: 128})\n",
      "Counter({1: 922, 0: 920, 2: 590, 3: 500})\n",
      "DatasetDict({\n",
      "    train: Dataset({\n",
      "        features: ['labels', 'text'],\n",
      "        num_rows: 10000\n",
      "    })\n",
      "    validation: Dataset({\n",
      "        features: ['labels', 'text'],\n",
      "        num_rows: 1000\n",
      "    })\n",
      "    test: Dataset({\n",
      "        features: ['labels', 'text'],\n",
      "        num_rows: 4000\n",
      "    })\n",
      "})\n"
     ]
    },
    {
     "data": {
      "application/vnd.jupyter.widget-view+json": {
       "model_id": "4715bb778b7b4bb5b793addd69a58137",
       "version_major": 2,
       "version_minor": 0
      },
      "text/plain": [
       "  0%|          | 0/10 [00:00<?, ?ba/s]"
      ]
     },
     "metadata": {},
     "output_type": "display_data"
    },
    {
     "data": {
      "application/vnd.jupyter.widget-view+json": {
       "model_id": "300fc8f6f5274f77b3d31cce1aeb5ee3",
       "version_major": 2,
       "version_minor": 0
      },
      "text/plain": [
       "  0%|          | 0/1 [00:00<?, ?ba/s]"
      ]
     },
     "metadata": {},
     "output_type": "display_data"
    },
    {
     "data": {
      "application/vnd.jupyter.widget-view+json": {
       "model_id": "3bf21035e6da4a02ad0fcc68690842f7",
       "version_major": 2,
       "version_minor": 0
      },
      "text/plain": [
       "  0%|          | 0/4 [00:00<?, ?ba/s]"
      ]
     },
     "metadata": {},
     "output_type": "display_data"
    },
    {
     "name": "stdout",
     "output_type": "stream",
     "text": [
      "DatasetDict({\n",
      "    train: Dataset({\n",
      "        features: ['labels', 'text'],\n",
      "        num_rows: 3131\n",
      "    })\n",
      "    validation: Dataset({\n",
      "        features: ['labels', 'text'],\n",
      "        num_rows: 283\n",
      "    })\n",
      "    test: Dataset({\n",
      "        features: ['labels', 'text'],\n",
      "        num_rows: 1195\n",
      "    })\n",
      "})\n",
      "Counter({3: 1620, 0: 776, 1: 715, 2: 20})\n",
      "Counter({0: 111, 3: 104, 1: 61, 2: 7})\n",
      "Counter({3: 521, 0: 358, 1: 289, 2: 27})\n"
     ]
    }
   ],
   "source": [
    "for language in languages:\n",
    "    dataset_dict = dict_creator(language, sections)\n",
    "    dataset = dataset_creator(language, dataset_dict)\n",
    "    print(dataset)\n",
    "    dataset.save_to_disk(os.path.join(data_dir, dataset_type, language))\n",
    "    filtered_dataset = dataset.filter(filter_short, fn_kwargs={\"min_sentences\": min_sentences})\n",
    "    print(filtered_dataset)\n",
    "    dist_checker(filtered_dataset)\n",
    "    filtered_dataset.save_to_disk(os.path.join(data_dir, dataset_type, \"filtered\",language))"
   ]
  },
  {
   "cell_type": "code",
   "execution_count": null,
   "id": "e5d952b1",
   "metadata": {},
   "outputs": [],
   "source": []
  }
 ],
 "metadata": {
  "kernelspec": {
   "display_name": "Python 3 (ipykernel)",
   "language": "python",
   "name": "python3"
  },
  "language_info": {
   "codemirror_mode": {
    "name": "ipython",
    "version": 3
   },
   "file_extension": ".py",
   "mimetype": "text/x-python",
   "name": "python",
   "nbconvert_exporter": "python",
   "pygments_lexer": "ipython3",
   "version": "3.9.7"
  }
 },
 "nbformat": 4,
 "nbformat_minor": 5
}
