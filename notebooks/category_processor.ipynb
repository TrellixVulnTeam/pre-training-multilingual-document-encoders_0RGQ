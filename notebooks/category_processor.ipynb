{
 "cells": [
  {
   "cell_type": "code",
   "execution_count": 1,
   "metadata": {},
   "outputs": [],
   "source": [
    "import os\n",
    "import json\n",
    "import random\n",
    "from dataclasses import dataclass\n",
    "from collections import Counter, defaultdict\n",
    "\n",
    "import datasets\n",
    "\n",
    "from datasets import load_from_disk"
   ]
  },
  {
   "cell_type": "markdown",
   "metadata": {},
   "source": [
    "# Dataset"
   ]
  },
  {
   "cell_type": "code",
   "execution_count": 2,
   "metadata": {},
   "outputs": [
    {
     "name": "stdout",
     "output_type": "stream",
     "text": [
      "1558009\n"
     ]
    }
   ],
   "source": [
    "root_dir = r\"C:\\Users\\onurg\\.cache\\huggingface\\datasets\"\n",
    "data_dir = \"updated_wiki40b\"\n",
    "\n",
    "path = os.path.join(root_dir, data_dir, \"long_small_en\")\n",
    "\n",
    "dataset = load_from_disk(path)\n",
    "print(len(dataset))"
   ]
  },
  {
   "cell_type": "code",
   "execution_count": 3,
   "metadata": {},
   "outputs": [
    {
     "name": "stdout",
     "output_type": "stream",
     "text": [
      "Counter({'en_de': 435694, 'en_fr': 357248, 'en_it': 245572, 'fr_de': 209015, 'it_de': 157327, 'fr_it': 153153})\n"
     ]
    }
   ],
   "source": [
    "# Number of occurances for each language pairs\n",
    "\n",
    "pair_dict = Counter(dataset[\"pair\"])\n",
    "print(pair_dict)"
   ]
  },
  {
   "cell_type": "markdown",
   "metadata": {},
   "source": [
    "## Language Article Dictionary"
   ]
  },
  {
   "cell_type": "code",
   "execution_count": 5,
   "metadata": {},
   "outputs": [
    {
     "name": "stderr",
     "output_type": "stream",
     "text": [
      "100%|██████████| 1558009/1558009 [08:09<00:00, 3180.79ex/s]\n"
     ]
    },
    {
     "data": {
      "text/plain": [
       "Dataset({\n",
       "    features: ['article_1', 'article_2', 'pair', 'wikidata_id'],\n",
       "    num_rows: 1558009\n",
       "})"
      ]
     },
     "execution_count": 5,
     "metadata": {},
     "output_type": "execute_result"
    }
   ],
   "source": [
    "language_article_mapping = defaultdict(set)\n",
    "\n",
    "def language_article_mapper(example):\n",
    "    p1, p2 = example[\"pair\"].split(\"_\")\n",
    "    language_article_mapping[p1].add(example[\"wikidata_id\"])\n",
    "    language_article_mapping[p2].add(example[\"wikidata_id\"])\n",
    "\n",
    "\n",
    "dataset.map(language_article_mapper)\n"
   ]
  },
  {
   "cell_type": "code",
   "execution_count": 6,
   "metadata": {},
   "outputs": [
    {
     "name": "stdout",
     "output_type": "stream",
     "text": [
      " For language en, there are 639046 availabile articles\n",
      " For language fr, there are 357248 availabile articles\n",
      " For language de, there are 435694 availabile articles\n",
      " For language it, there are 245572 availabile articles\n"
     ]
    }
   ],
   "source": [
    "for k, v in language_article_mapping.items():\n",
    "    print(f\" For language {k}, there are {len(v)} availabile articles\")"
   ]
  },
  {
   "cell_type": "markdown",
   "metadata": {},
   "source": [
    "# Titles"
   ]
  },
  {
   "cell_type": "code",
   "execution_count": 21,
   "metadata": {},
   "outputs": [],
   "source": [
    "titles_file = 'titles.json'\n",
    "\n",
    "data = []\n",
    "with open(titles_file, encoding='utf-8') as f:\n",
    "    for line in f:\n",
    "        data.append(json.loads(line))"
   ]
  },
  {
   "cell_type": "code",
   "execution_count": 22,
   "metadata": {},
   "outputs": [],
   "source": [
    "# Creating a dictionary for mapping Wikidata IDs to their categories\n",
    "\n",
    "title_dict = dict()\n",
    "for item in data:\n",
    "    title_dict[item[\"id\"]] = {\"title\": item[\"title\"], \"categories\": item[\"categories\"].split(\"#\")}"
   ]
  },
  {
   "cell_type": "code",
   "execution_count": 23,
   "metadata": {},
   "outputs": [
    {
     "name": "stdout",
     "output_type": "stream",
     "text": [
      "Number of total occurances for all categories: 8020123\n"
     ]
    }
   ],
   "source": [
    "category_list = []\n",
    "lens_list = []\n",
    "\n",
    "for key, values in title_dict.items():\n",
    "    lst = values[\"categories\"]\n",
    "    category_list.extend(lst)\n",
    "    lens_list.append(len(lst))\n",
    "\n",
    "print(f\"Number of total occurances for all categories: {len(category_list)}\")"
   ]
  },
  {
   "cell_type": "code",
   "execution_count": 24,
   "metadata": {},
   "outputs": [
    {
     "name": "stdout",
     "output_type": "stream",
     "text": [
      "List of the substring:\n",
      "['Articles', 'description', 'articles', 'Living', 'Wikidata', 'Webarchive', 'CS1', 'AC with 0 elements', 'missing', 'invalid', 'Pages', 'pages', 'Template', 'errors', 'cleanup', 'unknown', 'Use dmy dates from', 'All ', 'Source attribution', 'birth', 'Biography with signature', 'EngvarB', 'Singlechart', 'usages', 'deaths', 'Use mdy dates', 'Commons', 'links', 'lacking', 'needing confirmation', 'Drugboxes which contain changes to watched fields', 'certification', 'ambiguous', 'Use ']\n"
     ]
    }
   ],
   "source": [
    "# Creating a list of the substrings that will be used in filtering out operation.\n",
    "\n",
    "exclude_file = \"notes.txt\"\n",
    "\n",
    "with open(exclude_file) as file:\n",
    "    exclude_list = [line.rstrip().split(\",\")[0] for line in file if line.rstrip().split(\",\")[1] != \"?\"]\n",
    "print(\"List of the substring:\")\n",
    "print(exclude_list)"
   ]
  },
  {
   "cell_type": "code",
   "execution_count": 25,
   "metadata": {},
   "outputs": [
    {
     "name": "stdout",
     "output_type": "stream",
     "text": [
      "Number of total occurances for all categories before filter out operation: 8020123\n",
      "Number of total occurances for all categories after filter out operation: 3475826\n",
      "Number of total unique categories: 611644\n",
      "Number of total unique categories that appear more than once: 354497\n"
     ]
    }
   ],
   "source": [
    "print(f\"Number of total occurances for all categories before filter out operation: {len(category_list)}\")\n",
    "\n",
    "category_list = [category for category in category_list if all(string not in category for string in exclude_list)]\n",
    "print(f\"Number of total occurances for all categories after filter out operation: {len(category_list)}\")\n",
    "\n",
    "l_c = Counter(lens_list)\n",
    "category_dict = Counter(category_list)\n",
    "print(f\"Number of total unique categories: {len(category_dict)}\")\n",
    "\n",
    "category_dict = {k:v for k,v in category_dict.items() if v > 1}\n",
    "print(f\"Number of total unique categories that appear more than once: {len(category_dict)}\")"
   ]
  },
  {
   "cell_type": "code",
   "execution_count": 26,
   "metadata": {},
   "outputs": [
    {
     "name": "stdout",
     "output_type": "stream",
     "text": [
      "Number of articles before filtering: 423790\n",
      "Number of articles after filtering: 420002\n"
     ]
    }
   ],
   "source": [
    "print(f\"Number of articles before filtering: {len(title_dict)}\")\n",
    "\n",
    "updated_title_dict = dict()\n",
    "for key, values in title_dict.items():\n",
    "    # filtering out the articles that don't belong to any of the respective categories\n",
    "    if any(category in category_dict for category in values[\"categories\"]):\n",
    "        # updating the category list of each article\n",
    "        updated_title_dict[key] = [value for value in values[\"categories\"] if value in category_dict] \n",
    "        \n",
    "print(f\"Number of articles after filtering: {len(updated_title_dict)}\")\n"
   ]
  },
  {
   "cell_type": "code",
   "execution_count": 27,
   "metadata": {},
   "outputs": [],
   "source": [
    "# Categoriy-article mapping: for each category, corresponding articles are listed. \n",
    "\n",
    "category_article_mapping = defaultdict(list)\n",
    "for key, values in updated_title_dict.items():\n",
    "    for category in values:\n",
    "        category_article_mapping[category].append(key)    "
   ]
  },
  {
   "cell_type": "code",
   "execution_count": 28,
   "metadata": {},
   "outputs": [],
   "source": [
    "# For each language, creates a \"category_article_mapping\" so that for each category, corresponding articles will be listed.\n",
    "\n",
    "def language_category_mapper(category_article_mapping: dict, article_set: set) -> dict:\n",
    "    mapping = defaultdict(list)\n",
    "    for key, values in category_article_mapping.items():\n",
    "        # For each language - category combination, get the available articles \n",
    "        values = [value for value in values if value in article_set]\n",
    "        # If category only has one article, discard\n",
    "        if len(values) > 1:\n",
    "            mapping[key] = values\n",
    "\n",
    "    return mapping\n",
    "\n",
    "\n",
    "language_category_article_mapping = dict(dict())\n",
    "for language, article_set in language_article_mapping.items():\n",
    "    language_category_article_mapping[language] = language_category_mapper(category_article_mapping, article_set)"
   ]
  },
  {
   "cell_type": "code",
   "execution_count": 29,
   "metadata": {},
   "outputs": [
    {
     "name": "stdout",
     "output_type": "stream",
     "text": [
      " For language en, there are 354497 availabile categories\n",
      " For language fr, there are 244967 availabile categories\n",
      " For language de, there are 272606 availabile categories\n",
      " For language it, there are 185971 availabile categories\n"
     ]
    }
   ],
   "source": [
    "for k, v in language_category_article_mapping.items():\n",
    "    print(f\" For language {k}, there are {len(v)} availabile categories\")"
   ]
  },
  {
   "cell_type": "code",
   "execution_count": 40,
   "metadata": {},
   "outputs": [],
   "source": [
    "# For each language, creates a dictionary, for which each article is listed with all corresponding categories. \n",
    "\n",
    "def language_title_mapper(updated_title_dict, category_set, language_article_mapping, language, verbose=False):\n",
    "    mapping = dict()\n",
    "    id_set = language_article_mapping[language]\n",
    "    for key, values in updated_title_dict.items():\n",
    "    # filtering out the articles that don't belong to any of the respective categories\n",
    "        if any(category in category_set for category in values) and key in id_set:\n",
    "            # updating the category list of each article\n",
    "            mapping[key] = [value for value in values if value in category_set] \n",
    "        elif verbose:\n",
    "            print(key, language, values)\n",
    "            \n",
    "    return mapping\n",
    "\n",
    "language_title_dict = dict(dict())\n",
    "\n",
    "for language, category_set in language_category_article_mapping.items():\n",
    "    language_title_dict[language] = language_title_mapper(updated_title_dict, category_set, language_article_mapping, language, verbose=False)"
   ]
  },
  {
   "cell_type": "code",
   "execution_count": 41,
   "metadata": {},
   "outputs": [
    {
     "name": "stdout",
     "output_type": "stream",
     "text": [
      " For language en, there were 639046 availabile articles before filtering\n",
      " For language fr, there were 357248 availabile articles before filtering\n",
      " For language de, there were 435694 availabile articles before filtering\n",
      " For language it, there were 245572 availabile articles before filtering\n"
     ]
    }
   ],
   "source": [
    "for k, v in language_article_mapping.items():\n",
    "    print(f\" For language {k}, there were {len(v)} availabile articles before filtering\")"
   ]
  },
  {
   "cell_type": "code",
   "execution_count": 45,
   "metadata": {},
   "outputs": [
    {
     "name": "stdout",
     "output_type": "stream",
     "text": [
      " For language en, there are 420002 availabile articles after filtering\n",
      " For language fr, there are 233955 availabile articles after filtering\n",
      " For language de, there are 285771 availabile articles after filtering\n",
      " For language it, there are 160765 availabile articles after filtering\n"
     ]
    }
   ],
   "source": [
    "for k, v in language_title_dict.items():\n",
    "    print(f\" For language {k}, there are {len(v)} availabile articles after filtering\")"
   ]
  },
  {
   "cell_type": "markdown",
   "metadata": {},
   "source": [
    "# Hard Negative Finding"
   ]
  },
  {
   "cell_type": "markdown",
   "metadata": {},
   "source": [
    "Some results:\n",
    "\n",
    "\"Q3588472\": Émile Dubonnet, French balloonist  <br />\n",
    "\"Q588510\": Jacques Balsan, French aviator and businessman\n",
    "\n",
    "\"Q206961\": Épinay-sur-Seine, commune in Seine-Saint-Denis <br />\n",
    "\"Q175999\": Le Pré-Saint-Gervais, commune in Seine-Saint-Denis"
   ]
  },
  {
   "cell_type": "code",
   "execution_count": 46,
   "metadata": {},
   "outputs": [],
   "source": [
    "def hard_negative_finder(language: str, initial_article:str, language_title_dict: dict, language_category_article_mapping: dict) -> str:\n",
    "    cat_list = language_title_dict[language][initial_article]\n",
    "    category = random.choice(cat_list)\n",
    "    available_articles = [article for article in language_category_article_mapping[language][category] if article != initial_article]\n",
    "    selected_article = random.choice(available_articles)\n",
    "    return selected_article"
   ]
  },
  {
   "cell_type": "code",
   "execution_count": 55,
   "metadata": {},
   "outputs": [
    {
     "name": "stdout",
     "output_type": "stream",
     "text": [
      "Q275353\n"
     ]
    }
   ],
   "source": [
    "language = \"en\"\n",
    "initial_article = \"Q206961\"\n",
    "\n",
    "selected_article = hard_negative_finder(language, initial_article, language_title_dict, language_category_article_mapping)\n",
    "print(selected_article)"
   ]
  }
 ],
 "metadata": {
  "interpreter": {
   "hash": "33ab4daa0c7d977fc22aa25c36b9c12b9e43d0049f266348c79f509c14309a26"
  },
  "kernelspec": {
   "display_name": "Python 3.7.3 64-bit",
   "language": "python",
   "name": "python3"
  },
  "language_info": {
   "codemirror_mode": {
    "name": "ipython",
    "version": 3
   },
   "file_extension": ".py",
   "mimetype": "text/x-python",
   "name": "python",
   "nbconvert_exporter": "python",
   "pygments_lexer": "ipython3",
   "version": "3.7.3"
  },
  "orig_nbformat": 4
 },
 "nbformat": 4,
 "nbformat_minor": 2
}
