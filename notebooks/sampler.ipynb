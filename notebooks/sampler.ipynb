{
 "cells": [
  {
   "cell_type": "code",
   "execution_count": null,
   "metadata": {},
   "outputs": [],
   "source": [
    "import os\n",
    "from collections import Counter\n",
    "\n",
    "import numpy as np\n",
    "\n",
    "from datasets import load_from_disk, interleave_datasets"
   ]
  },
  {
   "cell_type": "code",
   "execution_count": null,
   "metadata": {},
   "outputs": [],
   "source": [
    "root_dir = r\"C:\\Users\\onurg\\.cache\\huggingface\\datasets\"\n",
    "data_dir = \"updated_wiki40b\"\n",
    "\n",
    "path = os.path.join(root_dir, data_dir, \"long_small_en\")\n",
    "\n",
    "dataset = load_from_disk(path)\n",
    "print(len(dataset))"
   ]
  },
  {
   "cell_type": "code",
   "execution_count": null,
   "metadata": {},
   "outputs": [],
   "source": [
    "# Language pair distribution within the dataset\n",
    "pair_dict = Counter(dataset[\"pair\"])\n",
    "print(pair_dict.items())"
   ]
  },
  {
   "cell_type": "code",
   "execution_count": null,
   "metadata": {},
   "outputs": [],
   "source": [
    "# For Counter class, order of returned list of keys/values doesn't change\n",
    "\n",
    "pair_datasets = []\n",
    "for pair in pair_dict.keys():\n",
    "    pair_dataset = dataset.filter(lambda example: example[\"pair\"] == pair, num_proc=8)\n",
    "    pair_datasets.append(pair_dataset)"
   ]
  },
  {
   "cell_type": "code",
   "execution_count": null,
   "metadata": {},
   "outputs": [],
   "source": [
    "def prob_with_temp(array: np.array, temperature: float = 0.3) -> np.array:\n",
    "\n",
    "    prob_array = array / sum(array)\n",
    "    print(f\" Distribution before temperature adjustment: {prob_array}\")\n",
    "    final_array = prob_array **  temperature / sum(prob_array **  temperature)\n",
    "    print(f\" Distribution before temperature adjustment: {final_array}\")\n",
    "    return final_array"
   ]
  },
  {
   "cell_type": "code",
   "execution_count": null,
   "metadata": {},
   "outputs": [],
   "source": [
    "initial_array = np.array(list(pair_dict.values()))\n",
    "final_array = prob_with_temp(initial_array)"
   ]
  },
  {
   "cell_type": "code",
   "execution_count": null,
   "metadata": {},
   "outputs": [],
   "source": [
    "final_dataset = interleave_datasets(pair_datasets, probabilities=final_array, seed=42)"
   ]
  },
  {
   "cell_type": "code",
   "execution_count": null,
   "metadata": {},
   "outputs": [],
   "source": [
    "final_pair_dict = Counter(final_dataset[\"pair\"])\n",
    "print(final_pair_dict.items())"
   ]
  },
  {
   "cell_type": "code",
   "execution_count": null,
   "metadata": {},
   "outputs": [],
   "source": [
    "path = os.path.join(root_dir, data_dir, \"final_small_en_0.3\")\n",
    "final_dataset.save_to_disk(path)"
   ]
  }
 ],
 "metadata": {
  "language_info": {
   "name": "python"
  },
  "orig_nbformat": 4
 },
 "nbformat": 4,
 "nbformat_minor": 2
}
