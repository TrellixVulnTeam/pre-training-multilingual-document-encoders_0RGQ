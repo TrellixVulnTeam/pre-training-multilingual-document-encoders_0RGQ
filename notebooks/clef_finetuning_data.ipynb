{
 "cells": [
  {
   "cell_type": "code",
   "execution_count": 27,
   "id": "d84859fb",
   "metadata": {},
   "outputs": [],
   "source": [
    "import sys\n",
    "import os\n",
    "import random\n",
    "from itertools import product, chain\n",
    "from collections import defaultdict\n",
    "\n",
    "import tqdm\n",
    "import pickle\n",
    "from datasets import Dataset\n",
    "\n",
    "sys.path.insert(0, '/home/ogalolu/thesis/pre-training-multilingual-document-encoders/clef')\n",
    "from evaluate import  _get_rerank_dir\n",
    "from clef_dataloaders.clef_dataloader import load_clef_rerank, load_relevance_assessments, load_clef"
   ]
  },
  {
   "cell_type": "markdown",
   "id": "84affa32",
   "metadata": {},
   "source": [
    "# Config"
   ]
  },
  {
   "cell_type": "code",
   "execution_count": 57,
   "id": "825b5773",
   "metadata": {},
   "outputs": [],
   "source": [
    "qlang = \"en\"\n",
    "dlang = \"en\"\n",
    "root_dir = \"/work/ogalolu/datasets\"\n",
    "year = \"2002\"\n",
    "rerank_dir = \"/home/ogalolu/thesis/EncoderCLIR/src/saved_dictionary.pkl\"\n",
    "\n",
    "num_easy_negative = 2\n",
    "num_hard_negative = 2\n",
    "topk = 100  #10?"
   ]
  },
  {
   "cell_type": "code",
   "execution_count": 43,
   "id": "a0be4a14",
   "metadata": {},
   "outputs": [
    {
     "data": {
      "text/plain": [
       "166754"
      ]
     },
     "execution_count": 43,
     "metadata": {},
     "output_type": "execute_result"
    }
   ],
   "source": [
    "len(loaded_dict[96])"
   ]
  },
  {
   "cell_type": "code",
   "execution_count": 39,
   "id": "bb526be9",
   "metadata": {},
   "outputs": [
    {
     "name": "stdout",
     "output_type": "stream",
     "text": [
      "The number total documents: 169477\n"
     ]
    }
   ],
   "source": [
    "with open(rerank_dir, 'rb') as f:\n",
    "    loaded_dict = pickle.load(f)\n",
    "    \n",
    "qid2topk = {}\n",
    "for qid, docs in loaded_dict.items():\n",
    "    qid2topk[qid] = docs[:topk]\n",
    "    \n",
    "doc_ids, documents, query_ids, queries, relass = load_clef(qlang, dlang, year)\n",
    "print(\"The number total documents:\", len(documents))"
   ]
  },
  {
   "cell_type": "markdown",
   "id": "9c2d1a35",
   "metadata": {},
   "source": [
    "# Initial Checks"
   ]
  },
  {
   "cell_type": "code",
   "execution_count": 41,
   "id": "5fab0c0c",
   "metadata": {},
   "outputs": [
    {
     "name": "stdout",
     "output_type": "stream",
     "text": [
      "There are no relevance assesment for the following queries: {96, 132, 101, 110, 117, 118, 93, 127}\n"
     ]
    }
   ],
   "source": [
    "s1 = set(relass.keys())\n",
    "s2 = set(query_ids)\n",
    "print(\"There are no relevance assesment for the following queries:\", s2 - s1)"
   ]
  },
  {
   "cell_type": "code",
   "execution_count": 42,
   "id": "e871d6be",
   "metadata": {},
   "outputs": [
    {
     "name": "stdout",
     "output_type": "stream",
     "text": [
      "Number of available query-document pairs: 821\n"
     ]
    }
   ],
   "source": [
    "ids = list(chain.from_iterable(list(relass.values())))\n",
    "print(\"Number of available query-document pairs:\", len(ids))"
   ]
  },
  {
   "cell_type": "markdown",
   "id": "b951333c",
   "metadata": {},
   "source": [
    "# Filter Documents"
   ]
  },
  {
   "cell_type": "code",
   "execution_count": 44,
   "id": "7f0c9868",
   "metadata": {},
   "outputs": [
    {
     "name": "stdout",
     "output_type": "stream",
     "text": [
      "Number of documents that are excluded from dataset building: 2765\n"
     ]
    }
   ],
   "source": [
    "# Some documents are very short\n",
    "exclude_set = set()\n",
    "for i, doc in enumerate(documents):\n",
    "    if len(doc) < 100:\n",
    "        exclude_set.add(i)\n",
    "print(\"Number of documents that are excluded from dataset building:\", len(exclude_set))"
   ]
  },
  {
   "cell_type": "markdown",
   "id": "6a4d744d",
   "metadata": {},
   "source": [
    "# Obtain Training Instances"
   ]
  },
  {
   "cell_type": "code",
   "execution_count": 69,
   "id": "6675da1e",
   "metadata": {},
   "outputs": [],
   "source": [
    "def find_negative(d_ind_list: list, num_hard_negative: int, num_easy_negative: int, topk_indices: list) -> tuple:    \n",
    "    \"\"\" Find hard and easy negative examples by excluding the indices of the relevant documents.\"\"\"\n",
    "    \n",
    "    # To ensure that relevant documents won't apper in the set of hard negative examples\n",
    "    topk_indices = set(topk_indices) - set(d_ind_list)\n",
    "    hard_neg_ind_list = random.choices(tuple(topk_indices), k=num_hard_negative) \n",
    "\n",
    "    \n",
    "    all_set = set(range(len(documents)))\n",
    "    # To ensure that relevant documents and topk documents won't appear in the set of easy negative examples\n",
    "    available_set = all_set - set(d_ind_list) - exclude_set - set(topk_indices)\n",
    "    easy_neg_ind_list = random.choices(tuple(available_set), k=num_easy_negative)  \n",
    "    negative_tuple = [documents[idx] for idx in hard_neg_ind_list + easy_neg_ind_list]\n",
    "    \n",
    "    return negative_tuple"
   ]
  },
  {
   "cell_type": "code",
   "execution_count": 70,
   "id": "fea79298",
   "metadata": {},
   "outputs": [
    {
     "name": "stderr",
     "output_type": "stream",
     "text": [
      "100%|██████████████████████████████████████████████████████████████████████████████████████████████████████████████████████████████████████████████████████████████████████| 42/42 [00:15<00:00,  2.77it/s]\n"
     ]
    }
   ],
   "source": [
    "instance_list = list()\n",
    "for q_ind, d_ind in tqdm.tqdm(relass.items()):\n",
    "    temp_query = [queries[query_ids.index(q_ind)]]\n",
    "    temp_documents = [documents[doc_ids.index(idx)] for idx in d_ind]\n",
    "    temp_list = list(product(temp_query, temp_documents))  # list of tuples\n",
    "    \n",
    "    # if negative examples to be added, then for each training instance that has the same query, create a \n",
    "    # different set of (easy and hard) negative examples, the number of negative examples is set at the beginning.\n",
    "    \n",
    "    if num_hard_negative is not None:\n",
    "        # relevant documents (according to the human readers - ground truth)\n",
    "        d_ind_list = [doc_ids.index(idx) for idx in d_ind]  \n",
    "        # topk documents (according to the pre-ranker)\n",
    "        topk_indices = [doc_ids.index(idx) for idx in qid2topk[q_ind]]\n",
    "        \n",
    "        for q in temp_list:\n",
    "            temp_negatives = find_negative(d_ind_list, num_hard_negative, num_easy_negative, topk_indices)\n",
    "            temp_tuple = (*q, *temp_negatives)\n",
    "            instance_list.append(temp_tuple)\n",
    "    else:\n",
    "        instance_list.extend(temp_list)\n",
    "\n",
    "assert len(instance_list) == len(ids)"
   ]
  },
  {
   "cell_type": "code",
   "execution_count": 71,
   "id": "507d09ad",
   "metadata": {},
   "outputs": [],
   "source": [
    "instance_dic = defaultdict(list)\n",
    "for q, d, *negatives in instance_list:\n",
    "    # For the naming convengtion, \"article\" is used, whereas article_1 and article_2 are reserved for query and document\n",
    "    instance_dic[\"article_1\"].append(q)\n",
    "    instance_dic[\"article_2\"].append(d)\n",
    "    \n",
    "    # If negatives to be added    \n",
    "    if num_hard_negative is not None:\n",
    "        for idx, neg in enumerate(negatives, 3):\n",
    "            instance_dic[f\"article_{idx}\"].append(neg)"
   ]
  },
  {
   "cell_type": "markdown",
   "id": "1ea53cf0",
   "metadata": {},
   "source": [
    "# Create Dataset"
   ]
  },
  {
   "cell_type": "code",
   "execution_count": 72,
   "id": "d5ebb4ec",
   "metadata": {},
   "outputs": [
    {
     "name": "stdout",
     "output_type": "stream",
     "text": [
      " THE MELDING AMERICAS; POLICY; U.S. TRYING TO REFOCUS ITS RELATIONS WITH  NEIGHBORS IN POST-COLD WAR ERA; WHILE TRADE AND POLITICAL CONDITIONS ARE  FAVORABLE, CRISES SUCH AS CUBA AND HAITI GET IN THE WAY OF PROGRESS.     When the Senate Foreign Relations Committee was considering the confirmation  of Alexander F. Watson as the State Department's key official on Latin America  last year, all of the questions posed by lawmakers concerned just three  countries -- Cuba, Haiti and Nicaragua -- near flyspecks when laid against the  expanse of the Western Hemisphere.     Watson, assistant secretary of state for Latin American affairs, later  recalled that he joked to South American journalists that the senators had  agreed not to ask about any country with a population of more than 15 million.     With the end of the Cold War, which had skewed U.S. relations with Latin  America for most of the last half-century, the United States is trying to  refocus its approach to its closest neighbors on trade, investment and the  promotion of democracy. Administration officials say conditions in the  Hemisphere -- especially in the larger countries, such as Brazil, Argentina,  Chile and Mexico -- are more favorable than they have been for decades for  cooperative U.S.-Latin relations on those subjects.     It may yet work out that way, of course, but crises such as the outpouring of  Cuban raft refugees and the occupation of Haiti keep getting in the way.     \"The great tragedy about Cuba and Haiti is that it was almost predictable that  these issues would come up and dominate the agenda and force out broader  subjects,\" said Kenneth R. Maxwell, director of the Latin America project of  the Council on Foreign Relations in New York.     \"There is no long-term strategic thinking at all,\" Maxwell said. \"Americans  who don't focus much on Latin America tend to see Latin America as Nicaragua  writ large or Cuba writ large or Haiti writ large. If you go to a huge vibrant  city like Sao Paulo (Brazil), that's where Latin America is dealing with  problems.\"     Administration officials concede that with about 15,000 U.S. troops deployed  in Haiti, it is not surprising that public attention is drawn to that unstable,  violent and impoverished Caribbean nation.     \"This has always been sort of a neglected area of U.S. foreign policy,\" one  State Department official admitted. \"We only seem to deal with Latin America  when there are problems or unsavory dictators.\"     But he said the Clinton Administration, driven in part by the hemispherical  summit scheduled for December in Miami, \"is taking a closer look at Latin  America on matters of trade and on our own agenda, like democracy and control  of corruption.\"     Trade is clearly the most important subject for both the United States and the  Latin countries. Commerce between the United States and other hemispherical  countries is expanding rapidly, the total figures driven by success of the  North American Free Trade Agreement which slashed barriers on  U.S.-Mexican-Canadian trade. If present trends continue, the United States will  soon sell more goods and services to Latin America than to Germany and Japan  combined, trade officials predict.     For years, Latin American nations have raised tariff walls and other  restraints to protect weak local industries. After a year of NAFTA, however,  most Latin countries are interested in liberalizing their trade with the United  States.     \"Mexico was the most anti- gringo country in the hemisphere,\" the State  Department official said. \"If they are willing to sign on with the 800-pound  gorilla, that is reassuring to others.\"     But Washington is not yet ready to invite all of the hemisphere into NAFTA.  The official said Chile's economy is the only one which seems \"ready for a  free-trade agreement with us.\"     Nevertheless, he said, the Administration is looking for some sort of trade  liberalization gesture to be unveiled at the Miami summit that will show  hemispherical countries \"that there is life after NAFTA.\"     Brazil, Argentina, Uruguay and Paraguay have formed an economic union that is  considered a prime candidate to cooperate with NAFTA.     Maxwell, the Council on Foreign Relations authority on Latin America, said  there is a danger that the organization will become a competitor instead of an  associate if Washington does not move quickly to establish a new relationship.     An Administration official said Brazil, which has South America's largest  economy, does not aspire to NAFTA membership but does not want to be left  behind by hemisphere-wide trade liberalization.     \"I call the Brazilians the 'French of Latin America,' \" the official said.  \"They can be a bit prickly. They see us as a rival to their leadership  ambitions.\"     But even counting a bit of trade friction with the Brazilians, Administration  officials and non-government experts agree that U.S. relations with most Latin  countries are better than they have been for decades.     \"U.S.-Latin American relations have improved significantly over the past three  or four years since the Cold War ended, the debt crisis receded and Central  America's wars ended,\" said Peter Hakim, president of Inter-American Dialogue,  a private organization with close ties to some members of President Clinton's  Cabinet. \"The Administration seems ready to incorporate all of Latin America  into some kind of economic agreement. Unfortunately, the Administration during  this year has not managed to carry forward this momentum. There is an  uneasiness that we don't know how to take advantage of all these good things.\"     One purpose of the December summit, the first such meeting of hemisphere heads  of government since 1967, is to try to seize the opportunities presented by the  economic and political advances of the region. Although some of the governments  may fall a bit short of the ideals set out in civics textbooks, 33 of the 35  governments in the hemisphere are at least nominal democracies. Cuba and Haiti  stand alone as the only countries without elected governments, and if Haiti's  military leaders keep the agreement they made to avert a U.S. invasion nine  days ago, Haiti will switch to the democratic column sometime next month.     U.S. summit planners say they will focus the talks on three areas -- trade,  democracy and economic development.     U.S. officials said Latin leaders have indicated they are prepared to talk  about political corruption at this summit, a topic they previously resisted.  And Latin governments are eager to discuss ways of preserving democracy  throughout the region.     One official said Washington hopes the summit will produce \"a set of  initiatives that are important enough to be considered presidential.\" He  declined to list examples, but he added: \"We are absolutely determined to make  this a substantive summit.\"     Despite the advances, however, the region can still cause headaches for U.S.  policy-makers, as the situations in Cuba and Haiti demonstrate.     Administration officials and non-governmental experts say problems remain in  Colombia and Bolivia because of the cocaine trade; in Peru because of President  Alberto Fujimori's \"auto coup\" in which the democratically elected president  ousted the Congress and the judiciary, and Venezuela because of economic and  political unrest. A State Department official said the Administration is also  concerned about Nicaragua because the elected government there has allowed the  Marxist Sandinista Liberation Front to retain control of the armed forces.     But overall, Central America, which U.S. Administrations once considered a  source of problems almost across the board, is now reasonably stable and ready  to take off economically, the State Department official said.     Argentina, once a hotbed of anti-American rhetoric, has become so friendly to  the United States that it agreed to contribute soldiers to the U.S.-led  military operation in Haiti.     Internally, Washington's decision to use military force to restore an elected  government in Haiti establishes a precedent that could prove troublesome. There  are 33 democracies -- some new and fragile -- in the hemisphere. If any of them  face military coups, will Washington feel bound to use force to preserve  democracy?     Administration officials insist that there is no obligation, although they say  Washington can be expected to exert maximum political and economic pressure if  any of the democracies are threatened.     The Council on Foreign Relations' Maxwell was far blunter in his assessment:  \"That is an impossible task, and Haiti probably will demonstrate that. This is  where rhetoric catches you up.\"   \n"
     ]
    }
   ],
   "source": [
    "dataset = Dataset.from_dict(instance_dic)\n",
    "print(dataset[0][\"article_4\"])"
   ]
  },
  {
   "cell_type": "code",
   "execution_count": 73,
   "id": "86fe92b4",
   "metadata": {},
   "outputs": [
    {
     "name": "stdout",
     "output_type": "stream",
     "text": [
      "DatasetDict({\n",
      "    train: Dataset({\n",
      "        features: ['article_1', 'article_2', 'article_3', 'article_4', 'article_5', 'article_6'],\n",
      "        num_rows: 738\n",
      "    })\n",
      "    test: Dataset({\n",
      "        features: ['article_1', 'article_2', 'article_3', 'article_4', 'article_5', 'article_6'],\n",
      "        num_rows: 83\n",
      "    })\n",
      "})\n"
     ]
    }
   ],
   "source": [
    "dataset = dataset.train_test_split(test_size=0.1)\n",
    "print(dataset)"
   ]
  },
  {
   "cell_type": "code",
   "execution_count": 74,
   "id": "d940404d",
   "metadata": {},
   "outputs": [],
   "source": [
    "path = os.path.join(root_dir, f\"clef_{year}_{topk}_{num_hard_negative}_{num_easy_negative}\")\n",
    "dataset.save_to_disk(path)"
   ]
  },
  {
   "cell_type": "code",
   "execution_count": null,
   "id": "22a3e2dc",
   "metadata": {},
   "outputs": [],
   "source": []
  }
 ],
 "metadata": {
  "kernelspec": {
   "display_name": "Python 3 (ipykernel)",
   "language": "python",
   "name": "python3"
  },
  "language_info": {
   "codemirror_mode": {
    "name": "ipython",
    "version": 3
   },
   "file_extension": ".py",
   "mimetype": "text/x-python",
   "name": "python",
   "nbconvert_exporter": "python",
   "pygments_lexer": "ipython3",
   "version": "3.9.7"
  }
 },
 "nbformat": 4,
 "nbformat_minor": 5
}
