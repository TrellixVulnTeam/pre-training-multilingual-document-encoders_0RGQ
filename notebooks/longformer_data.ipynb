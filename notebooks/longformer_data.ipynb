{
 "cells": [
  {
   "cell_type": "code",
   "execution_count": 35,
   "id": "d217bce1",
   "metadata": {},
   "outputs": [],
   "source": [
    "import os\n",
    "import random\n",
    "import pickle\n",
    "from collections import Counter\n",
    "\n",
    "import datasets\n",
    "import pandas as pd\n",
    "import numpy as np\n",
    "\n",
    "from datasets import load_from_disk, interleave_datasets\n",
    "from nltk import sent_tokenize"
   ]
  },
  {
   "cell_type": "code",
   "execution_count": 8,
   "id": "38a59dcd",
   "metadata": {},
   "outputs": [
    {
     "name": "stdout",
     "output_type": "stream",
     "text": [
      "1274091\n"
     ]
    }
   ],
   "source": [
    "root_dir = \"/work/ogalolu/datasets\"\n",
    "\n",
    "# Initial dataset to create seperate lines for each article item for available languages.\n",
    "path = os.path.join(root_dir, \"filtered_small_updated\")\n",
    "filtered_small_updated = load_from_disk(path)\n",
    "print(len(filtered_small_updated))\n",
    "\n",
    "languages = ('fr', 'it', 'de', 'en')"
   ]
  },
  {
   "cell_type": "code",
   "execution_count": 7,
   "id": "e3cbe625",
   "metadata": {},
   "outputs": [
    {
     "data": {
      "text/plain": [
       "{'text_it': None,\n",
       " 'text_fr': None,\n",
       " 'wikidata_id': 'Q3745033',\n",
       " 'text_de': '  Karriere  Hlúpik begann seine Karriere beim 1. FC Slovácko. Sein Debüt für Slovácko in der höchsten tschechischen Spielklasse gab er im Mai 2010, als er am 28. Spieltag der Saison 2009/10 gegen Sparta Prag in der 85. Minute für Radim Nečas eingewechselt wurde. Seinen ersten Treffer für Slovácko erzielte er im Juli 2011 gegen den 1. FK Příbram. Nach fast sieben Jahren in Slováckos erster Mannschaft verließ Hlúpik den Verein in der Winterpause der Saison 2016/17 und wechselte nach Bulgarien zu Tscherno More Warna. Bis zu seinem Wechsel war er in 96 Erstligapartien eingesetzt worden und hatte dabei neun Tore erzielt. Für Tscherno More Warna absolvierte er in der Rückrunde der Saison 2016/17 zwei Partien in der regulären Saison und zwei Partien in der Meisterschaftsrunde. Im August 2017 wechselte er nach Finnland zum IFK Mariehamn, bei dem er bereits vor seinem Wechsel nach Bulgarien ein Probetraining absolviert hatte. Für den Verein aus Åland kam er bis zum Ende der Saison 2017 auf neun torlose Einsätze in der Veikkausliiga. Im Februar 2018 kehrte er nach Tschechien zurück, wo er sich dem Zweitligisten 1. FK Příbram anschloss. Mit Příbram stieg er zu Saisonende als Tabellenzweiter der FNL in die erste tschechische Liga auf. In der Rückrunde der Saison 2017/18 kam Hlúpik auf 14 Einsätze, in denen er vier Tore erzielte.',\n",
       " 'text_en': '  Career  Hlúpik started his professional career at his hometown club 1. FC Slovácko. On 7 February 2017, he signed for Bulgarian club Cherno More Varna. On 19 February, he made his debut in a 0–2 home defeat against CSKA Sofia, coming on as substitute for Pirulo. On 29 May 2017, his contract was terminated by mutual consent. On 8 August 2017, Hlúpik signed a short-term contract with Ålandic club Mariehamn. He was called up to the Czech Republic national under-21 team in 2011, but failed to make an appearance.'}"
      ]
     },
     "execution_count": 7,
     "metadata": {},
     "output_type": "execute_result"
    }
   ],
   "source": [
    "filtered_small_updated[0]"
   ]
  },
  {
   "cell_type": "markdown",
   "id": "86330aa9",
   "metadata": {},
   "source": [
    "## Long Dataset"
   ]
  },
  {
   "cell_type": "code",
   "execution_count": 34,
   "id": "1f8eebfc",
   "metadata": {},
   "outputs": [
    {
     "data": {
      "application/vnd.jupyter.widget-view+json": {
       "model_id": "8eeced5fd62f4538a4bdff4ffddf6c19",
       "version_major": 2,
       "version_minor": 0
      },
      "text/plain": [
       "  0%|          | 0/1274091 [00:00<?, ?ba/s]"
      ]
     },
     "metadata": {},
     "output_type": "display_data"
    },
    {
     "name": "stdout",
     "output_type": "stream",
     "text": [
      "Number of articles in the dataset: 2956942\n"
     ]
    }
   ],
   "source": [
    "def make_long(example, languages: tuple, min_sentences: int):\n",
    "    available_list = list()\n",
    "    new_example = dict()\n",
    "\n",
    "    for language in languages:\n",
    "        if example[f\"text_{language}\"][0] and len(sent_tokenize(example[f\"text_{language}\"][0])) >= min_sentences:\n",
    "            available_list.append(language)\n",
    "\n",
    "    articles = list()\n",
    "\n",
    "    for language in available_list:\n",
    "        articles.append(*example[f\"text_{language}\"])\n",
    "\n",
    "    new_example[\"wikidata_id\"] = example[\"wikidata_id\"] * len(available_list)  \n",
    "    new_example[\"language\"] = available_list\n",
    "    new_example[\"article\"] = articles\n",
    "\n",
    "    return new_example\n",
    "\n",
    "# Filter the articles \n",
    "min_sentences = 3\n",
    "\n",
    "long_dataset = filtered_small_updated.map(make_long, fn_kwargs={\"languages\": languages, \"min_sentences\": min_sentences}, \n",
    "                                    remove_columns=filtered_small_updated.column_names, \n",
    "                                    batched=True, \n",
    "                                    batch_size=1)\n",
    "print(f\"Number of articles in the dataset: {len(long_dataset)}\")"
   ]
  },
  {
   "cell_type": "code",
   "execution_count": 37,
   "id": "e632a864",
   "metadata": {},
   "outputs": [
    {
     "data": {
      "text/plain": [
       "{'wikidata_id': 'Q3745033',\n",
       " 'article': '  Karriere  Hlúpik begann seine Karriere beim 1. FC Slovácko. Sein Debüt für Slovácko in der höchsten tschechischen Spielklasse gab er im Mai 2010, als er am 28. Spieltag der Saison 2009/10 gegen Sparta Prag in der 85. Minute für Radim Nečas eingewechselt wurde. Seinen ersten Treffer für Slovácko erzielte er im Juli 2011 gegen den 1. FK Příbram. Nach fast sieben Jahren in Slováckos erster Mannschaft verließ Hlúpik den Verein in der Winterpause der Saison 2016/17 und wechselte nach Bulgarien zu Tscherno More Warna. Bis zu seinem Wechsel war er in 96 Erstligapartien eingesetzt worden und hatte dabei neun Tore erzielt. Für Tscherno More Warna absolvierte er in der Rückrunde der Saison 2016/17 zwei Partien in der regulären Saison und zwei Partien in der Meisterschaftsrunde. Im August 2017 wechselte er nach Finnland zum IFK Mariehamn, bei dem er bereits vor seinem Wechsel nach Bulgarien ein Probetraining absolviert hatte. Für den Verein aus Åland kam er bis zum Ende der Saison 2017 auf neun torlose Einsätze in der Veikkausliiga. Im Februar 2018 kehrte er nach Tschechien zurück, wo er sich dem Zweitligisten 1. FK Příbram anschloss. Mit Příbram stieg er zu Saisonende als Tabellenzweiter der FNL in die erste tschechische Liga auf. In der Rückrunde der Saison 2017/18 kam Hlúpik auf 14 Einsätze, in denen er vier Tore erzielte.',\n",
       " 'language': 'de'}"
      ]
     },
     "execution_count": 37,
     "metadata": {},
     "output_type": "execute_result"
    }
   ],
   "source": [
    "long_dataset[0]"
   ]
  },
  {
   "cell_type": "markdown",
   "id": "745d78b4",
   "metadata": {},
   "source": [
    "## Sampling"
   ]
  },
  {
   "cell_type": "code",
   "execution_count": 39,
   "id": "a157df0d",
   "metadata": {},
   "outputs": [
    {
     "name": "stdout",
     "output_type": "stream",
     "text": [
      "dict_items([('de', 806805), ('en', 1000203), ('fr', 680050), ('it', 469884)])\n"
     ]
    }
   ],
   "source": [
    "# Language pair distribution within the dataset\n",
    "lang_dict = Counter(long_dataset[\"language\"])\n",
    "print(lang_dict.items())"
   ]
  },
  {
   "cell_type": "code",
   "execution_count": 40,
   "id": "d6d3241f",
   "metadata": {},
   "outputs": [],
   "source": [
    "# For Counter class, order of returned list of keys/values doesn't change\n",
    "\n",
    "language_datasets = []\n",
    "for lang in lang_dict.keys():\n",
    "    language_dataset = long_dataset.filter(lambda example: example[\"language\"] == lang, num_proc=8)\n",
    "    language_datasets.append(language_dataset)"
   ]
  },
  {
   "cell_type": "code",
   "execution_count": 41,
   "id": "fce34921",
   "metadata": {},
   "outputs": [],
   "source": [
    "#\n",
    "def prob_with_temp(array: np.array, temperature: float = 0.3) -> np.array:\n",
    "\n",
    "    prob_array = array / sum(array)\n",
    "    print(f\" Distribution before temperature adjustment: {prob_array}\")\n",
    "    final_array = prob_array **  temperature / sum(prob_array **  temperature)\n",
    "    print(f\" Distribution after temperature adjustment: {final_array}\")\n",
    "    return final_array"
   ]
  },
  {
   "cell_type": "code",
   "execution_count": 42,
   "id": "302f56a8",
   "metadata": {},
   "outputs": [
    {
     "name": "stdout",
     "output_type": "stream",
     "text": [
      " Distribution before temperature adjustment: [0.27285114 0.33825587 0.22998422 0.15890876]\n",
      " Distribution after temperature adjustment: [0.25860557 0.27582507 0.24567986 0.2198895 ]\n"
     ]
    }
   ],
   "source": [
    "initial_array = np.array(list(lang_dict.values()))\n",
    "final_array = prob_with_temp(initial_array)"
   ]
  },
  {
   "cell_type": "markdown",
   "id": "2515f342",
   "metadata": {},
   "source": [
    "## Merging and Saving"
   ]
  },
  {
   "cell_type": "code",
   "execution_count": 43,
   "id": "31fb6765",
   "metadata": {},
   "outputs": [],
   "source": [
    "final_dataset = interleave_datasets(language_datasets, probabilities=final_array, seed=42)"
   ]
  },
  {
   "cell_type": "code",
   "execution_count": 44,
   "id": "368a7dc9",
   "metadata": {},
   "outputs": [
    {
     "name": "stdout",
     "output_type": "stream",
     "text": [
      "dict_items([('fr', 523895), ('en', 589614), ('it', 469884), ('de', 552171)])\n"
     ]
    }
   ],
   "source": [
    "final_pair_dict = Counter(final_dataset[\"language\"])\n",
    "print(final_pair_dict.items())"
   ]
  },
  {
   "cell_type": "code",
   "execution_count": 45,
   "id": "1a60de65",
   "metadata": {},
   "outputs": [
    {
     "data": {
      "application/vnd.jupyter.widget-view+json": {
       "model_id": "fa3b6767fc5c4c5cad469ba328ad038a",
       "version_major": 2,
       "version_minor": 0
      },
      "text/plain": [
       "  0%|          | 0/2136 [00:00<?, ?ba/s]"
      ]
     },
     "metadata": {},
     "output_type": "display_data"
    }
   ],
   "source": [
    "final_dataset = final_dataset.flatten_indices()"
   ]
  },
  {
   "cell_type": "code",
   "execution_count": null,
   "id": "f3964612",
   "metadata": {},
   "outputs": [],
   "source": [
    "path = os.path.join(root_dir, \"longformer_small\")\n",
    "final_dataset.save_to_disk(path)"
   ]
  },
  {
   "cell_type": "code",
   "execution_count": null,
   "id": "dda47367",
   "metadata": {},
   "outputs": [],
   "source": []
  }
 ],
 "metadata": {
  "kernelspec": {
   "display_name": "Python 3 (ipykernel)",
   "language": "python",
   "name": "python3"
  },
  "language_info": {
   "codemirror_mode": {
    "name": "ipython",
    "version": 3
   },
   "file_extension": ".py",
   "mimetype": "text/x-python",
   "name": "python",
   "nbconvert_exporter": "python",
   "pygments_lexer": "ipython3",
   "version": "3.9.7"
  }
 },
 "nbformat": 4,
 "nbformat_minor": 5
}
